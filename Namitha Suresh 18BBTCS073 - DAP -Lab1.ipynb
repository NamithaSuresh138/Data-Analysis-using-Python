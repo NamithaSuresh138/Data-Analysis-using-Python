{
 "cells": [
  {
   "cell_type": "code",
   "execution_count": 2,
   "metadata": {},
   "outputs": [
    {
     "name": "stdout",
     "output_type": "stream",
     "text": [
      "Enter the name: Namitha Suresh\n",
      "Enter your USN:18BBTCS073\n",
      "Enter your programmeB.Tech\n",
      "Given below enter your academic details\n",
      "Enter sgpa for sem1: 9.33\n",
      "Enter spga for sem2: 10\n",
      "Enter spga for sem3: 9.14\n",
      "Enter spga for sem4: 9.46\n",
      "Enter spga for sem5: 9.29\n",
      "Enter spga for sem6: 9.35\n",
      "Enter your CGPA9.41\n",
      "9.41\n"
     ]
    }
   ],
   "source": [
    "# ACADEMIC DETAILS \n",
    "# Submitted by: Namitha Suresh 18BBTCS073 Section-A\n",
    "name=input(\"Enter the name: \")\n",
    "USN=input(\"Enter your USN:\")\n",
    "academicprogramme=input(\"Enter your programme\")\n",
    "\n",
    "print(\"Given below enter your academic details\")\n",
    "\n",
    "sgpa1=input(\"Enter sgpa for sem1: \")\n",
    "sgpa2=input(\"Enter spga for sem2: \")\n",
    "sgpa3=input(\"Enter spga for sem3: \")\n",
    "sgpa4=input(\"Enter spga for sem4: \")\n",
    "sgpa5=input(\"Enter spga for sem5: \")\n",
    "sgpa6=input(\"Enter spga for sem6: \")\n",
    "CGPA=float(input(\"Enter your CGPA\"))\n",
    "print(CGPA)"
   ]
  },
  {
   "cell_type": "code",
   "execution_count": null,
   "metadata": {},
   "outputs": [],
   "source": []
  }
 ],
 "metadata": {
  "kernelspec": {
   "display_name": "Python 3",
   "language": "python",
   "name": "python3"
  },
  "language_info": {
   "codemirror_mode": {
    "name": "ipython",
    "version": 3
   },
   "file_extension": ".py",
   "mimetype": "text/x-python",
   "name": "python",
   "nbconvert_exporter": "python",
   "pygments_lexer": "ipython3",
   "version": "3.8.3"
  }
 },
 "nbformat": 4,
 "nbformat_minor": 4
}
