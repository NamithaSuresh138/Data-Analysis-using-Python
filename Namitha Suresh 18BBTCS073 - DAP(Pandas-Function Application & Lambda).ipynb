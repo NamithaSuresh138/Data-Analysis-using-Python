{
 "cells": [
  {
   "cell_type": "code",
   "execution_count": 3,
   "metadata": {},
   "outputs": [
    {
     "name": "stdout",
     "output_type": "stream",
     "text": [
      "       col1      col2      col3\n",
      "0  1.017062 -0.829692 -0.074841\n",
      "1 -0.327275  1.202538  0.320750\n",
      "2 -1.242979  0.429122 -0.733194\n",
      "3  0.636862 -1.307625 -0.702219\n",
      "4  1.323123  0.350538 -0.990364\n",
      "printing the results of pipe\n",
      "       col1      col2      col3\n",
      "0  3.017062  1.170308  1.925159\n",
      "1  1.672725  3.202538  2.320750\n",
      "2  0.757021  2.429122  1.266806\n",
      "3  2.636862  0.692375  1.297781\n",
      "4  3.323123  2.350538  1.009636\n"
     ]
    }
   ],
   "source": [
    "import pandas as pd\n",
    "import numpy as np\n",
    "\n",
    "def adder(ele1, ele2):\n",
    "    return ele1+ele2\n",
    "\n",
    "df=pd.DataFrame(np.random.randn(5,3),columns=['col1','col2','col3'])\n",
    "print(df)\n",
    "print(\"printing the results of pipe\")\n",
    "print(df.pipe(adder,2))"
   ]
  },
  {
   "cell_type": "code",
   "execution_count": 4,
   "metadata": {},
   "outputs": [
    {
     "name": "stdout",
     "output_type": "stream",
     "text": [
      "       col1      col2      col3\n",
      "0  0.157516  0.483341 -1.432088\n",
      "1 -0.255100  0.568508  0.540761\n",
      "2 -3.479511 -0.167612 -0.416607\n",
      "3  1.578098  0.644360  0.490215\n",
      "4 -0.497363 -1.350112  0.741089\n",
      "col1   -0.499272\n",
      "col2    0.035697\n",
      "col3   -0.015326\n",
      "dtype: float64\n"
     ]
    }
   ],
   "source": [
    "import pandas as pd\n",
    "import numpy as np\n",
    "\n",
    "def adder(ele1, ele2):\n",
    "    return ele1+ele2\n",
    "\n",
    "df=pd.DataFrame(np.random.randn(5,3),columns=['col1','col2','col3'])\n",
    "print(df)\n",
    "print(df.apply(np.mean))"
   ]
  },
  {
   "cell_type": "code",
   "execution_count": 5,
   "metadata": {},
   "outputs": [
    {
     "name": "stdout",
     "output_type": "stream",
     "text": [
      "       col1      col2      col3\n",
      "0 -0.287971  0.226497  0.896610\n",
      "1  0.411282  0.530755 -0.623142\n",
      "2 -0.083777  2.062186 -1.077584\n",
      "3 -0.520178  0.629350 -0.118378\n",
      "4 -0.558102  1.288131  0.212383\n",
      "0    0.278379\n",
      "1    0.106298\n",
      "2    0.300275\n",
      "3   -0.003069\n",
      "4    0.314138\n",
      "dtype: float64\n"
     ]
    }
   ],
   "source": [
    "import pandas as pd\n",
    "import numpy as np\n",
    "\n",
    "def adder(ele1, ele2):\n",
    "    return ele1+ele2\n",
    "\n",
    "df=pd.DataFrame(np.random.randn(5,3),columns=['col1','col2','col3'])\n",
    "print(df)\n",
    "print(df.apply(np.mean,axis=1))"
   ]
  },
  {
   "cell_type": "code",
   "execution_count": 7,
   "metadata": {},
   "outputs": [
    {
     "name": "stdout",
     "output_type": "stream",
     "text": [
      "       col1      col2      col3\n",
      "0 -1.148316 -0.587325 -0.016456\n",
      "1 -0.707409  1.064842 -0.055690\n",
      "2  0.149256 -0.094443 -1.403447\n",
      "3 -0.272064  1.077031 -0.452930\n",
      "4  0.506899 -0.324172  0.714936\n",
      "0   -114.831605\n",
      "1    -70.740931\n",
      "2     14.925586\n",
      "3    -27.206376\n",
      "4     50.689893\n",
      "Name: col1, dtype: float64\n"
     ]
    }
   ],
   "source": [
    "import pandas as pd\n",
    "import numpy as np\n",
    "\n",
    "df=pd.DataFrame(np.random.randn(5,3),columns=['col1','col2','col3'])\n",
    "print(df)\n",
    "print(df['col1'].map(lambda x:x*100 ))"
   ]
  },
  {
   "cell_type": "code",
   "execution_count": 8,
   "metadata": {},
   "outputs": [
    {
     "name": "stdout",
     "output_type": "stream",
     "text": [
      "   id  name  age  income\n",
      "0   1   abc   11    9999\n",
      "1   2  defg   22    8888\n",
      "2   3   ghs   33    7777\n",
      "3   4  eeee   44    6666\n",
      "4   5  wwww   55    5555\n"
     ]
    }
   ],
   "source": [
    "df=pd.DataFrame({'id':[1,2,3,4,5],'name':['abc','defg','ghs','eeee','wwww'],'age':[11,22,33,44,55],'income':[9999,8888,7777,6666,5555]})\n",
    "print(df)"
   ]
  },
  {
   "cell_type": "code",
   "execution_count": 9,
   "metadata": {},
   "outputs": [
    {
     "name": "stdout",
     "output_type": "stream",
     "text": [
      "   id  name  age  income\n",
      "0   1   abc   14    9999\n",
      "1   2  defg   25    8888\n",
      "2   3   ghs   36    7777\n",
      "3   4  eeee   47    6666\n",
      "4   5  wwww   58    5555\n"
     ]
    }
   ],
   "source": [
    "df['age']=df.apply(lambda x: x['age']+3, axis=1)\n",
    "print(df)"
   ]
  },
  {
   "cell_type": "code",
   "execution_count": 8,
   "metadata": {},
   "outputs": [
    {
     "data": {
      "text/plain": [
       "[25, 36, 47, 58]"
      ]
     },
     "execution_count": 8,
     "metadata": {},
     "output_type": "execute_result"
    }
   ],
   "source": [
    "list(filter(lambda x:x>18, df['age']))"
   ]
  },
  {
   "cell_type": "code",
   "execution_count": 9,
   "metadata": {},
   "outputs": [
    {
     "name": "stdout",
     "output_type": "stream",
     "text": [
      "   id  name  age  income\n",
      "0   1   abc   14   11998\n",
      "1   2  defg   25   10665\n",
      "2   3   ghs   36    9332\n",
      "3   4  eeee   47    7999\n",
      "4   5  wwww   58    6666\n"
     ]
    }
   ],
   "source": [
    "df['income']=list(map(lambda x:int(x+x*0.2),df['income']))\n",
    "print(df)"
   ]
  },
  {
   "cell_type": "code",
   "execution_count": 10,
   "metadata": {},
   "outputs": [
    {
     "data": {
      "text/plain": [
       "46660"
      ]
     },
     "execution_count": 10,
     "metadata": {},
     "output_type": "execute_result"
    }
   ],
   "source": [
    "import functools\n",
    "functools.reduce(lambda a,b: a+b, df['income'])"
   ]
  },
  {
   "cell_type": "code",
   "execution_count": 11,
   "metadata": {},
   "outputs": [
    {
     "name": "stdout",
     "output_type": "stream",
     "text": [
      "   id  name  age  income category\n",
      "0   1   abc   14   11998    Child\n",
      "1   2  defg   25   10665    Adult\n",
      "2   3   ghs   36    9332    Adult\n",
      "3   4  eeee   47    7999    Adult\n",
      "4   5  wwww   58    6666    Adult\n"
     ]
    }
   ],
   "source": [
    "df['category']=df['age'].apply(lambda x: 'Adult' if x>=18 else'Child')\n",
    "print(df)"
   ]
  },
  {
   "cell_type": "code",
   "execution_count": null,
   "metadata": {},
   "outputs": [],
   "source": []
  }
 ],
 "metadata": {
  "kernelspec": {
   "display_name": "Python 3",
   "language": "python",
   "name": "python3"
  },
  "language_info": {
   "codemirror_mode": {
    "name": "ipython",
    "version": 3
   },
   "file_extension": ".py",
   "mimetype": "text/x-python",
   "name": "python",
   "nbconvert_exporter": "python",
   "pygments_lexer": "ipython3",
   "version": "3.8.3"
  }
 },
 "nbformat": 4,
 "nbformat_minor": 4
}
