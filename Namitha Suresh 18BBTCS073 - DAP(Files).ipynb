{
  "nbformat": 4,
  "nbformat_minor": 0,
  "metadata": {
    "colab": {
      "name": "Namitha Suresh 18BBTCS073 - DAP(Files).ipynb",
      "provenance": [],
      "collapsed_sections": []
    },
    "kernelspec": {
      "name": "python3",
      "display_name": "Python 3"
    },
    "language_info": {
      "name": "python"
    }
  },
  "cells": [
    {
      "cell_type": "code",
      "metadata": {
        "colab": {
          "base_uri": "https://localhost:8080/"
        },
        "id": "ZAGI45vuwLEy",
        "outputId": "4b8f7ada-b605-4006-df9d-850b762495db"
      },
      "source": [
        "print(\"Python is really a great langauage,\",\"isn't it?\")"
      ],
      "execution_count": null,
      "outputs": [
        {
          "output_type": "stream",
          "name": "stdout",
          "text": [
            "Python is really a great langauage, isn't it?\n"
          ]
        }
      ]
    },
    {
      "cell_type": "code",
      "metadata": {
        "colab": {
          "base_uri": "https://localhost:8080/"
        },
        "id": "sACGV9pQwilX",
        "outputId": "fa6e3bc7-1ad1-432b-8a99-c881bf8c664a"
      },
      "source": [
        "str=input(\"Enter your input: \")\n",
        "print(\"Received input is: \",str)"
      ],
      "execution_count": null,
      "outputs": [
        {
          "output_type": "stream",
          "name": "stdout",
          "text": [
            "Enter your input: Namitha Suresh\n",
            "Received input is:  Namitha Suresh\n"
          ]
        }
      ]
    },
    {
      "cell_type": "code",
      "metadata": {
        "colab": {
          "base_uri": "https://localhost:8080/"
        },
        "id": "rHYXx-ovwyKD",
        "outputId": "c1a34e13-8d35-4378-8896-dbdd0c60cc02"
      },
      "source": [
        "#Open a file\n",
        "fo=open(\"cse7sem.txt\",\"wb\")\n",
        "print(\"Name of the file: \",fo.name)\n",
        "\n",
        "#Close opened file\n",
        "fo.close()"
      ],
      "execution_count": null,
      "outputs": [
        {
          "output_type": "stream",
          "name": "stdout",
          "text": [
            "Name of the file:  cse7sem.txt\n"
          ]
        }
      ]
    },
    {
      "cell_type": "code",
      "metadata": {
        "colab": {
          "base_uri": "https://localhost:8080/"
        },
        "id": "kno4Pw9JxGVI",
        "outputId": "51a27314-39a9-4ee8-f9db-a40b24f18235"
      },
      "source": [
        "f=open(\"cse7sem1.txt\",\"a\")\n",
        "f.write(\"Suresh\")\n",
        "f.close()\n",
        "\n",
        "#open and read the file after the appending:\n",
        "f=open(\"cse7sem1.txt\",\"r\")\n",
        "print(f.read())"
      ],
      "execution_count": null,
      "outputs": [
        {
          "output_type": "stream",
          "name": "stdout",
          "text": [
            "NamithaSuresh\n"
          ]
        }
      ]
    },
    {
      "cell_type": "code",
      "metadata": {
        "colab": {
          "base_uri": "https://localhost:8080/"
        },
        "id": "jdtocDgFyHq4",
        "outputId": "af55a053-945f-4f42-8369-27939274bbb5"
      },
      "source": [
        "#open a file\n",
        "fo=open(\"cse7sem.txt\",\"r+\")\n",
        "str=fo.read(10);\n",
        "print(\"Read String is: \",str)\n",
        "#Close opened file\n",
        "fo.close()"
      ],
      "execution_count": null,
      "outputs": [
        {
          "output_type": "stream",
          "name": "stdout",
          "text": [
            "Read String is:  Hello ever\n"
          ]
        }
      ]
    },
    {
      "cell_type": "code",
      "metadata": {
        "colab": {
          "base_uri": "https://localhost:8080/"
        },
        "id": "EMX_IjWczDc7",
        "outputId": "44b35007-88ba-486b-c4db-6c912b643e09"
      },
      "source": [
        "fo=open(\"cse7sem.txt\",\"wb\")\n",
        "print(\"Name of the file: \",fo.name)\n",
        "print(\"closed or not: \",fo.closed)\n",
        "print(\"Opening mode: \",fo.mode)"
      ],
      "execution_count": null,
      "outputs": [
        {
          "output_type": "stream",
          "name": "stdout",
          "text": [
            "Name of the file:  cse7sem.txt\n",
            "closed or not:  False\n",
            "Opening mode:  wb\n"
          ]
        }
      ]
    },
    {
      "cell_type": "code",
      "metadata": {
        "colab": {
          "base_uri": "https://localhost:8080/"
        },
        "id": "tWRW2Sdozaa5",
        "outputId": "940f001c-e39f-49b4-b417-dae7a58ce835"
      },
      "source": [
        "#Open a file\n",
        "fo=open(\"cse7sem1.txt\",\"r+\")\n",
        "\n",
        "str=fo.read(10)\n",
        "print(\"Read string is: \",str)\n",
        "\n",
        "#Check current position\n",
        "position=fo.tell()\n",
        "print(\"Current file position: \",position)\n",
        "\n",
        "#Reposition pointer at the beginning once again\n",
        "position=fo.seek(1,0);\n",
        "str=fo.read(7)\n",
        "print(\"Again read string is: \",str)\n",
        "\n",
        "ptr=fo.seek(0,1)\n",
        "str1=fo.read(3)\n",
        "print(\"my new strings= \",str1)\n",
        "\n",
        "#Close opened file\n",
        "fo.close()"
      ],
      "execution_count": null,
      "outputs": [
        {
          "output_type": "stream",
          "name": "stdout",
          "text": [
            "Read string is:  NamithaSur\n",
            "Current file position:  10\n",
            "Again read string is:  amithaS\n",
            "my new strings=  ure\n"
          ]
        }
      ]
    },
    {
      "cell_type": "code",
      "metadata": {
        "colab": {
          "base_uri": "https://localhost:8080/",
          "height": 201
        },
        "id": "yDIxhYh10zRn",
        "outputId": "c146388f-058f-4b27-910c-5734d36b4a93"
      },
      "source": [
        "import os\n",
        "\n",
        "#Rename a file from test1.txt to test2.txt\n",
        "os.rename(\"demofile2.txt\",\"text2.txt\")"
      ],
      "execution_count": null,
      "outputs": [
        {
          "output_type": "error",
          "ename": "FileNotFoundError",
          "evalue": "ignored",
          "traceback": [
            "\u001b[0;31m---------------------------------------------------------------------------\u001b[0m",
            "\u001b[0;31mFileNotFoundError\u001b[0m                         Traceback (most recent call last)",
            "\u001b[0;32m<ipython-input-16-876f8e77e694>\u001b[0m in \u001b[0;36m<module>\u001b[0;34m()\u001b[0m\n\u001b[1;32m      2\u001b[0m \u001b[0;34m\u001b[0m\u001b[0m\n\u001b[1;32m      3\u001b[0m \u001b[0;31m#Rename a file from test1.txt to test2.txt\u001b[0m\u001b[0;34m\u001b[0m\u001b[0;34m\u001b[0m\u001b[0;34m\u001b[0m\u001b[0m\n\u001b[0;32m----> 4\u001b[0;31m \u001b[0mos\u001b[0m\u001b[0;34m.\u001b[0m\u001b[0mrename\u001b[0m\u001b[0;34m(\u001b[0m\u001b[0;34m\"demofile2.txt\"\u001b[0m\u001b[0;34m,\u001b[0m\u001b[0;34m\"text2.txt\"\u001b[0m\u001b[0;34m)\u001b[0m\u001b[0;34m\u001b[0m\u001b[0;34m\u001b[0m\u001b[0m\n\u001b[0m",
            "\u001b[0;31mFileNotFoundError\u001b[0m: [Errno 2] No such file or directory: 'demofile2.txt' -> 'text2.txt'"
          ]
        }
      ]
    },
    {
      "cell_type": "code",
      "metadata": {
        "colab": {
          "base_uri": "https://localhost:8080/",
          "height": 201
        },
        "id": "uFdyTpg21Eoc",
        "outputId": "1894f2fc-8359-47a8-d326-e1e6706b6961"
      },
      "source": [
        "import os\n",
        "#Delete file test2.txt\n",
        "os.remove(\"text2.txt\")"
      ],
      "execution_count": null,
      "outputs": [
        {
          "output_type": "error",
          "ename": "FileNotFoundError",
          "evalue": "ignored",
          "traceback": [
            "\u001b[0;31m---------------------------------------------------------------------------\u001b[0m",
            "\u001b[0;31mFileNotFoundError\u001b[0m                         Traceback (most recent call last)",
            "\u001b[0;32m<ipython-input-17-d09a913f072c>\u001b[0m in \u001b[0;36m<module>\u001b[0;34m()\u001b[0m\n\u001b[1;32m      1\u001b[0m \u001b[0;32mimport\u001b[0m \u001b[0mos\u001b[0m\u001b[0;34m\u001b[0m\u001b[0;34m\u001b[0m\u001b[0m\n\u001b[1;32m      2\u001b[0m \u001b[0;31m#Delete file test2.txt\u001b[0m\u001b[0;34m\u001b[0m\u001b[0;34m\u001b[0m\u001b[0;34m\u001b[0m\u001b[0m\n\u001b[0;32m----> 3\u001b[0;31m \u001b[0mos\u001b[0m\u001b[0;34m.\u001b[0m\u001b[0mremove\u001b[0m\u001b[0;34m(\u001b[0m\u001b[0;34m\"text2.txt\"\u001b[0m\u001b[0;34m)\u001b[0m\u001b[0;34m\u001b[0m\u001b[0;34m\u001b[0m\u001b[0m\n\u001b[0m",
            "\u001b[0;31mFileNotFoundError\u001b[0m: [Errno 2] No such file or directory: 'text2.txt'"
          ]
        }
      ]
    },
    {
      "cell_type": "code",
      "metadata": {
        "id": "1aIFRuVD1V65"
      },
      "source": [
        "import os\n",
        "#create a directory \"test\"\n",
        "os.mkdir(\"test\")"
      ],
      "execution_count": null,
      "outputs": []
    },
    {
      "cell_type": "code",
      "metadata": {
        "colab": {
          "base_uri": "https://localhost:8080/",
          "height": 131
        },
        "id": "32a9xQ161hu_",
        "outputId": "fc867709-d6c6-44b1-bd1e-60e9e328ba2a"
      },
      "source": [
        "import os\n",
        "#Changing a directory to \"/home/newdir\"\n",
        "os.chdir(\"D:\\Namitha\")"
      ],
      "execution_count": null,
      "outputs": [
        {
          "output_type": "error",
          "ename": "SyntaxError",
          "evalue": "ignored",
          "traceback": [
            "\u001b[0;36m  File \u001b[0;32m\"<ipython-input-21-f44ea18948cb>\"\u001b[0;36m, line \u001b[0;32m3\u001b[0m\n\u001b[0;31m    os.chdir(\"D:\\Namitha\")\u001b[0m\n\u001b[0m            ^\u001b[0m\n\u001b[0;31mSyntaxError\u001b[0m\u001b[0;31m:\u001b[0m (unicode error) 'unicodeescape' codec can't decode bytes in position 2-3: malformed \\N character escape\n"
          ]
        }
      ]
    },
    {
      "cell_type": "code",
      "metadata": {
        "colab": {
          "base_uri": "https://localhost:8080/",
          "height": 201
        },
        "id": "k9EkIv1k16ox",
        "outputId": "7c907f83-ab0a-42fe-b8ae-3f0b897d1134"
      },
      "source": [
        "import os\n",
        "#This would give location of the current directory\n",
        "os.getcwd()\n",
        "\n",
        "#This would remove \"/tmp/test\" directory\n",
        "os.rmdir(\"/tmp/test\")\n"
      ],
      "execution_count": null,
      "outputs": [
        {
          "output_type": "error",
          "ename": "FileNotFoundError",
          "evalue": "ignored",
          "traceback": [
            "\u001b[0;31m---------------------------------------------------------------------------\u001b[0m",
            "\u001b[0;31mFileNotFoundError\u001b[0m                         Traceback (most recent call last)",
            "\u001b[0;32m<ipython-input-22-a77acaa8c833>\u001b[0m in \u001b[0;36m<module>\u001b[0;34m()\u001b[0m\n\u001b[1;32m      4\u001b[0m \u001b[0;34m\u001b[0m\u001b[0m\n\u001b[1;32m      5\u001b[0m \u001b[0;31m#This would remove \"/tmp/test\" directory\u001b[0m\u001b[0;34m\u001b[0m\u001b[0;34m\u001b[0m\u001b[0;34m\u001b[0m\u001b[0m\n\u001b[0;32m----> 6\u001b[0;31m \u001b[0mos\u001b[0m\u001b[0;34m.\u001b[0m\u001b[0mrmdir\u001b[0m\u001b[0;34m(\u001b[0m\u001b[0;34m\"/tmp/test\"\u001b[0m\u001b[0;34m)\u001b[0m\u001b[0;34m\u001b[0m\u001b[0;34m\u001b[0m\u001b[0m\n\u001b[0m",
            "\u001b[0;31mFileNotFoundError\u001b[0m: [Errno 2] No such file or directory: '/tmp/test'"
          ]
        }
      ]
    }
  ]
}