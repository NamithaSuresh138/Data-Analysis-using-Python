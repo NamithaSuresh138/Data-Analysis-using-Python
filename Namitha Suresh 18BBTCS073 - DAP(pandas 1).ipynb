{
 "cells": [
  {
   "cell_type": "code",
   "execution_count": 1,
   "metadata": {},
   "outputs": [
    {
     "name": "stdout",
     "output_type": "stream",
     "text": [
      "0    1.176654\n",
      "1   -0.298791\n",
      "2    0.601934\n",
      "3   -0.177341\n",
      "dtype: float64\n"
     ]
    }
   ],
   "source": [
    "import pandas as pd\n",
    "import numpy as np\n",
    "#create a series with 100 random numbers\n",
    "s=pd.Series(np.random.randn(4))\n",
    "print(s)"
   ]
  },
  {
   "cell_type": "code",
   "execution_count": 2,
   "metadata": {},
   "outputs": [
    {
     "name": "stdout",
     "output_type": "stream",
     "text": [
      "[RangeIndex(start=0, stop=4, step=1)]\n"
     ]
    }
   ],
   "source": [
    "import pandas as pd\n",
    "import numpy as np\n",
    "s=pd.Series(np.random.randn(4))\n",
    "print(\"The axes are: \")\n",
    "print(s.axes)"
   ]
  },
  {
   "cell_type": "code",
   "execution_count": 1,
   "metadata": {},
   "outputs": [
    {
     "name": "stdout",
     "output_type": "stream",
     "text": [
      "Is the object empty?\n",
      "False\n"
     ]
    }
   ],
   "source": [
    "import pandas as pd\n",
    "import numpy as np\n",
    "#Create a series with 100 random numbers\n",
    "s=pd.Series(np.random.randn(4))\n",
    "print(\"Is the object empty?\")\n",
    "print(s.empty)"
   ]
  },
  {
   "cell_type": "code",
   "execution_count": 2,
   "metadata": {},
   "outputs": [
    {
     "name": "stdout",
     "output_type": "stream",
     "text": [
      "0    0.506494\n",
      "1    1.374841\n",
      "2   -1.218091\n",
      "3   -1.758857\n",
      "dtype: float64\n",
      "The dimensions of the object: \n",
      "1\n"
     ]
    }
   ],
   "source": [
    "import pandas as pd\n",
    "import numpy as np\n",
    "#create a series with 4 random numbers\n",
    "s=pd.Series(np.random.randn(4))\n",
    "print(s)\n",
    "print(\"The dimensions of the object: \")\n",
    "print(s.ndim)"
   ]
  },
  {
   "cell_type": "code",
   "execution_count": 4,
   "metadata": {},
   "outputs": [
    {
     "name": "stdout",
     "output_type": "stream",
     "text": [
      "0    0.577305\n",
      "1    0.651062\n",
      "dtype: float64\n",
      "The size of the object: \n",
      "2\n"
     ]
    }
   ],
   "source": [
    "import pandas as pd\n",
    "import numpy as np\n",
    "#Create a series with 4 random numbers\n",
    "s=pd.Series(np.random.rand(2))\n",
    "print(s)\n",
    "print(\"The size of the object: \")\n",
    "print(s.size)"
   ]
  },
  {
   "cell_type": "code",
   "execution_count": 5,
   "metadata": {},
   "outputs": [
    {
     "name": "stdout",
     "output_type": "stream",
     "text": [
      "0    2.245546\n",
      "1   -1.391153\n",
      "2    0.187303\n",
      "3    0.231714\n",
      "dtype: float64\n",
      "The actual data series is: \n",
      "[ 2.24554646 -1.39115258  0.18730303  0.23171446]\n"
     ]
    }
   ],
   "source": [
    "import pandas as pd\n",
    "import numpy as np\n",
    "#Create a series with 4 random numbers\n",
    "s=pd.Series(np.random.randn(4))\n",
    "print(s)\n",
    "print(\"The actual data series is: \")\n",
    "print(s.values)"
   ]
  },
  {
   "cell_type": "code",
   "execution_count": 7,
   "metadata": {},
   "outputs": [
    {
     "name": "stdout",
     "output_type": "stream",
     "text": [
      "The original series is: \n",
      "0    0.687844\n",
      "1    0.595444\n",
      "2    0.341187\n",
      "3    0.374623\n",
      "dtype: float64\n",
      "The first two rows of the data series: \n",
      "0    0.687844\n",
      "1    0.595444\n",
      "dtype: float64\n"
     ]
    }
   ],
   "source": [
    "import pandas as pd\n",
    "import numpy as np\n",
    "#Create a series with 4 random numbers\n",
    "s=pd.Series(np.random.rand(4))\n",
    "print(\"The original series is: \")\n",
    "print(s)\n",
    "print(\"The first two rows of the data series: \")\n",
    "print(s.head(2))"
   ]
  },
  {
   "cell_type": "code",
   "execution_count": 8,
   "metadata": {},
   "outputs": [
    {
     "name": "stdout",
     "output_type": "stream",
     "text": [
      "The original series is: \n",
      "0    0.622155\n",
      "1    0.953117\n",
      "2    0.519820\n",
      "3    0.999753\n",
      "dtype: float64\n",
      "The last two rows of the data series: \n",
      "2    0.519820\n",
      "3    0.999753\n",
      "dtype: float64\n"
     ]
    }
   ],
   "source": [
    "import numpy as np\n",
    "import pandas as pd\n",
    "#Create a series with 4 random numbers\n",
    "s=pd.Series(np.random.rand(4))\n",
    "print(\"The original series is: \")\n",
    "print(s)\n",
    "print(\"The last two rows of the data series: \")\n",
    "print(s.tail(2))"
   ]
  },
  {
   "cell_type": "code",
   "execution_count": 9,
   "metadata": {},
   "outputs": [
    {
     "name": "stdout",
     "output_type": "stream",
     "text": [
      "Our data series is: \n",
      "    Name  Age  Rating\n",
      "0    Tom   25    4.23\n",
      "1  James   26    3.24\n",
      "2  Ricky   25    3.98\n",
      "3    Vin   23    2.56\n",
      "4  Steve   30    3.20\n",
      "5  Smith   29    4.60\n",
      "6   Jack   23    3.80\n"
     ]
    }
   ],
   "source": [
    "import pandas as pd\n",
    "import numpy as np\n",
    "#Create a dictionary of series\n",
    "d={'Name':pd.Series(['Tom','James','Ricky','Vin','Steve','Smith','Jack']),\n",
    "  'Age':pd.Series([25,26,25,23,30,29,23]),\n",
    "  'Rating':([4.23,3.24,3.98,2.56,3.20,4.6,3.8])}\n",
    "\n",
    "#Create a DataFrame\n",
    "df=pd.DataFrame(d)\n",
    "print(\"Our data series is: \")\n",
    "print(df)"
   ]
  },
  {
   "cell_type": "code",
   "execution_count": 12,
   "metadata": {},
   "outputs": [
    {
     "name": "stdout",
     "output_type": "stream",
     "text": [
      "The transpose of the data series is:  \n",
      "           0      1      2     3      4      5     6\n",
      "Name     Tom  James  Ricky   Vin  Steve  Smith  Jack\n",
      "Age       25     26     25    23     30     29    23\n",
      "Rating  4.23   3.24   3.98  2.56    3.2    4.6   3.8\n"
     ]
    }
   ],
   "source": [
    "import pandas as pd\n",
    "import numpy as np\n",
    "#Create a dictionary of series\n",
    "d={'Name':pd.Series(['Tom','James','Ricky','Vin','Steve','Smith','Jack']),\n",
    "  'Age':pd.Series([25,26,25,23,30,29,23]),\n",
    "  'Rating':([4.23,3.24,3.98,2.56,3.20,4.6,3.8])}\n",
    "\n",
    "#Create a DataFrame\n",
    "df=pd.DataFrame(d)\n",
    "print(\"The transpose of the data series is:  \")\n",
    "print(df.T)"
   ]
  },
  {
   "cell_type": "code",
   "execution_count": 13,
   "metadata": {},
   "outputs": [
    {
     "name": "stdout",
     "output_type": "stream",
     "text": [
      "Row axis labels and column axis labels:  \n",
      "[RangeIndex(start=0, stop=7, step=1), Index(['Name', 'Age', 'Rating'], dtype='object')]\n"
     ]
    }
   ],
   "source": [
    "import pandas as pd\n",
    "import numpy as np\n",
    "#Create a dictionary of series\n",
    "d={'Name':pd.Series(['Tom','James','Ricky','Vin','Steve','Smith','Jack']),\n",
    "  'Age':pd.Series([25,26,25,23,30,29,23]),\n",
    "  'Rating':([4.23,3.24,3.98,2.56,3.20,4.6,3.8])}\n",
    "\n",
    "#Create a DataFrame\n",
    "df=pd.DataFrame(d)\n",
    "print(\"Row axis labels and column axis labels:  \")\n",
    "print(df.axes)"
   ]
  },
  {
   "cell_type": "code",
   "execution_count": 14,
   "metadata": {},
   "outputs": [
    {
     "name": "stdout",
     "output_type": "stream",
     "text": [
      "The data types of each column are:  \n",
      "Name       object\n",
      "Age         int64\n",
      "Rating    float64\n",
      "dtype: object\n"
     ]
    }
   ],
   "source": [
    "import pandas as pd\n",
    "import numpy as np\n",
    "#Create a dictionary of series\n",
    "d={'Name':pd.Series(['Tom','James','Ricky','Vin','Steve','Smith','Jack']),\n",
    "  'Age':pd.Series([25,26,25,23,30,29,23]),\n",
    "  'Rating':([4.23,3.24,3.98,2.56,3.20,4.6,3.8])}\n",
    "\n",
    "#Create a DataFrame\n",
    "df=pd.DataFrame(d)\n",
    "print(\"The data types of each column are:  \")\n",
    "print(df.dtypes)"
   ]
  },
  {
   "cell_type": "code",
   "execution_count": 15,
   "metadata": {},
   "outputs": [
    {
     "name": "stdout",
     "output_type": "stream",
     "text": [
      "Is the object empty? \n",
      "False\n"
     ]
    }
   ],
   "source": [
    "import pandas as pd\n",
    "import numpy as np\n",
    "#Create a dictionary of series\n",
    "d={'Name':pd.Series(['Tom','James','Ricky','Vin','Steve','Smith','Jack']),\n",
    "  'Age':pd.Series([25,26,25,23,30,29,23]),\n",
    "  'Rating':([4.23,3.24,3.98,2.56,3.20,4.6,3.8])}\n",
    "\n",
    "#Create a DataFrame\n",
    "df=pd.DataFrame(d)\n",
    "print(\"Is the object empty? \")\n",
    "print(df.empty)"
   ]
  },
  {
   "cell_type": "code",
   "execution_count": 16,
   "metadata": {},
   "outputs": [
    {
     "name": "stdout",
     "output_type": "stream",
     "text": [
      "Our object is: \n",
      "    Name  Age  Rating\n",
      "0    Tom   25    4.23\n",
      "1  James   26    3.24\n",
      "2  Ricky   25    3.98\n",
      "3    Vin   23    2.56\n",
      "4  Steve   30    3.20\n",
      "5  Smith   29    4.60\n",
      "6   Jack   23    3.80\n",
      "The dimension of the object is: \n",
      "2\n"
     ]
    }
   ],
   "source": [
    "import pandas as pd\n",
    "import numpy as np\n",
    "#Create a dictionary of series\n",
    "d={'Name':pd.Series(['Tom','James','Ricky','Vin','Steve','Smith','Jack']),\n",
    "  'Age':pd.Series([25,26,25,23,30,29,23]),\n",
    "  'Rating':([4.23,3.24,3.98,2.56,3.20,4.6,3.8])}\n",
    "\n",
    "#Create a DataFrame\n",
    "df=pd.DataFrame(d)\n",
    "print(\"Our object is: \")\n",
    "print(df)\n",
    "print(\"The dimension of the object is: \")\n",
    "print(df.ndim)"
   ]
  },
  {
   "cell_type": "code",
   "execution_count": 17,
   "metadata": {},
   "outputs": [
    {
     "name": "stdout",
     "output_type": "stream",
     "text": [
      "Our object is: \n",
      "    Name  Age  Rating\n",
      "0    Tom   25    4.23\n",
      "1  James   26    3.24\n",
      "2  Ricky   25    3.98\n",
      "3    Vin   23    2.56\n",
      "4  Steve   30    3.20\n",
      "5  Smith   29    4.60\n",
      "6   Jack   23    3.80\n",
      "The shape of the object is: \n",
      "(7, 3)\n"
     ]
    }
   ],
   "source": [
    "import pandas as pd\n",
    "import numpy as np\n",
    "#Create a dictionary of series\n",
    "d={'Name':pd.Series(['Tom','James','Ricky','Vin','Steve','Smith','Jack']),\n",
    "  'Age':pd.Series([25,26,25,23,30,29,23]),\n",
    "  'Rating':([4.23,3.24,3.98,2.56,3.20,4.6,3.8])}\n",
    "\n",
    "#Create a DataFrame\n",
    "df=pd.DataFrame(d)\n",
    "print(\"Our object is: \")\n",
    "print(df)\n",
    "print(\"The shape of the object is: \")\n",
    "print(df.shape)"
   ]
  },
  {
   "cell_type": "code",
   "execution_count": 18,
   "metadata": {},
   "outputs": [
    {
     "name": "stdout",
     "output_type": "stream",
     "text": [
      "Our object is: \n",
      "    Name  Age  Rating\n",
      "0    Tom   25    4.23\n",
      "1  James   26    3.24\n",
      "2  Ricky   25    3.98\n",
      "3    Vin   23    2.56\n",
      "4  Steve   30    3.20\n",
      "5  Smith   29    4.60\n",
      "6   Jack   23    3.80\n",
      "The total number of elements in our object is: \n",
      "21\n"
     ]
    }
   ],
   "source": [
    "import pandas as pd\n",
    "import numpy as np\n",
    "#Create a dictionary of series\n",
    "d={'Name':pd.Series(['Tom','James','Ricky','Vin','Steve','Smith','Jack']),\n",
    "  'Age':pd.Series([25,26,25,23,30,29,23]),\n",
    "  'Rating':([4.23,3.24,3.98,2.56,3.20,4.6,3.8])}\n",
    "\n",
    "#Create a DataFrame\n",
    "df=pd.DataFrame(d)\n",
    "print(\"Our object is: \")\n",
    "print(df)\n",
    "print(\"The total number of elements in our object is: \")\n",
    "print(df.size)"
   ]
  },
  {
   "cell_type": "code",
   "execution_count": 19,
   "metadata": {},
   "outputs": [
    {
     "name": "stdout",
     "output_type": "stream",
     "text": [
      "Our object is: \n",
      "    Name  Age  Rating\n",
      "0    Tom   25    4.23\n",
      "1  James   26    3.24\n",
      "2  Ricky   25    3.98\n",
      "3    Vin   23    2.56\n",
      "4  Steve   30    3.20\n",
      "5  Smith   29    4.60\n",
      "6   Jack   23    3.80\n",
      "The actual data in our object is: \n",
      "[['Tom' 25 4.23]\n",
      " ['James' 26 3.24]\n",
      " ['Ricky' 25 3.98]\n",
      " ['Vin' 23 2.56]\n",
      " ['Steve' 30 3.2]\n",
      " ['Smith' 29 4.6]\n",
      " ['Jack' 23 3.8]]\n"
     ]
    }
   ],
   "source": [
    "import pandas as pd\n",
    "import numpy as np\n",
    "#Create a dictionary of series\n",
    "d={'Name':pd.Series(['Tom','James','Ricky','Vin','Steve','Smith','Jack']),\n",
    "  'Age':pd.Series([25,26,25,23,30,29,23]),\n",
    "  'Rating':([4.23,3.24,3.98,2.56,3.20,4.6,3.8])}\n",
    "\n",
    "#Create a DataFrame\n",
    "df=pd.DataFrame(d)\n",
    "print(\"Our object is: \")\n",
    "print(df)\n",
    "print(\"The actual data in our object is: \")\n",
    "print(df.values)"
   ]
  },
  {
   "cell_type": "code",
   "execution_count": 21,
   "metadata": {},
   "outputs": [
    {
     "name": "stdout",
     "output_type": "stream",
     "text": [
      "Our object is: \n",
      "    Name  Age  Rating\n",
      "0    Tom   25    4.23\n",
      "1  James   26    3.24\n",
      "2  Ricky   25    3.98\n",
      "3    Vin   23    2.56\n",
      "4  Steve   30    3.20\n",
      "5  Smith   29    4.60\n",
      "6   Jack   23    3.80\n",
      "The first three rows of the data frame is: \n",
      "    Name  Age  Rating\n",
      "0    Tom   25    4.23\n",
      "1  James   26    3.24\n",
      "2  Ricky   25    3.98\n",
      "default head values\n",
      "    Name  Age  Rating\n",
      "0    Tom   25    4.23\n",
      "1  James   26    3.24\n",
      "2  Ricky   25    3.98\n",
      "3    Vin   23    2.56\n",
      "4  Steve   30    3.20\n"
     ]
    }
   ],
   "source": [
    "import pandas as pd\n",
    "import numpy as np\n",
    "#Create a dictionary of series\n",
    "d={'Name':pd.Series(['Tom','James','Ricky','Vin','Steve','Smith','Jack']),\n",
    "  'Age':pd.Series([25,26,25,23,30,29,23]),\n",
    "  'Rating':([4.23,3.24,3.98,2.56,3.20,4.6,3.8])}\n",
    "\n",
    "#Create a DataFrame\n",
    "df=pd.DataFrame(d)\n",
    "print(\"Our object is: \")\n",
    "print(df)\n",
    "print(\"The first three rows of the data frame is: \")\n",
    "print(df.head(3))\n",
    "print(\"default head values\")\n",
    "print(df.head())"
   ]
  },
  {
   "cell_type": "code",
   "execution_count": 23,
   "metadata": {},
   "outputs": [
    {
     "name": "stdout",
     "output_type": "stream",
     "text": [
      "Our object is: \n",
      "    Name  Age  Rating\n",
      "0    Tom   25    4.23\n",
      "1  James   26    3.24\n",
      "2  Ricky   25    3.98\n",
      "3    Vin   23    2.56\n",
      "4  Steve   30    3.20\n",
      "5  Smith   29    4.60\n",
      "6   Jack   23    3.80\n",
      "The last two rows of the data frame is: \n",
      "    Name  Age  Rating\n",
      "5  Smith   29     4.6\n",
      "6   Jack   23     3.8\n"
     ]
    }
   ],
   "source": [
    "import pandas as pd\n",
    "import numpy as np\n",
    "#Create a dictionary of series\n",
    "d={'Name':pd.Series(['Tom','James','Ricky','Vin','Steve','Smith','Jack']),\n",
    "  'Age':pd.Series([25,26,25,23,30,29,23]),\n",
    "  'Rating':([4.23,3.24,3.98,2.56,3.20,4.6,3.8])}\n",
    "\n",
    "#Create a DataFrame\n",
    "df=pd.DataFrame(d)\n",
    "print(\"Our object is: \")\n",
    "print(df)\n",
    "print(\"The last two rows of the data frame is: \")\n",
    "print(df.tail(2))"
   ]
  },
  {
   "cell_type": "code",
   "execution_count": null,
   "metadata": {},
   "outputs": [],
   "source": []
  }
 ],
 "metadata": {
  "kernelspec": {
   "display_name": "Python 3",
   "language": "python",
   "name": "python3"
  },
  "language_info": {
   "codemirror_mode": {
    "name": "ipython",
    "version": 3
   },
   "file_extension": ".py",
   "mimetype": "text/x-python",
   "name": "python",
   "nbconvert_exporter": "python",
   "pygments_lexer": "ipython3",
   "version": "3.8.3"
  }
 },
 "nbformat": 4,
 "nbformat_minor": 4
}
