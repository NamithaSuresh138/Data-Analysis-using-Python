{
 "cells": [
  {
   "cell_type": "code",
   "execution_count": 2,
   "metadata": {},
   "outputs": [
    {
     "name": "stdout",
     "output_type": "stream",
     "text": [
      "       col1      col2\n",
      "1 -0.324843  1.815263\n",
      "4  1.309360 -0.543646\n",
      "6 -2.275650  0.155210\n",
      "2 -0.031291  0.495414\n",
      "3  0.620429 -1.919646\n",
      "5  0.786387 -0.342755\n",
      "9 -0.174028  0.859389\n",
      "8 -1.272411 -1.170254\n",
      "0 -0.323080  0.617203\n",
      "7 -1.969049  0.103585\n"
     ]
    }
   ],
   "source": [
    "import pandas as pd\n",
    "import numpy as np\n",
    "unsorted_df=pd.DataFrame(np.random.randn(10,2),index=[1,4,6,2,3,5,9,8,0,7],columns=['col1','col2'])\n",
    "print(unsorted_df)"
   ]
  },
  {
   "cell_type": "code",
   "execution_count": 3,
   "metadata": {},
   "outputs": [
    {
     "name": "stdout",
     "output_type": "stream",
     "text": [
      "       col1      col2\n",
      "0 -3.352919  0.008505\n",
      "1  0.657897 -0.832864\n",
      "2 -0.196738 -2.408574\n",
      "3 -1.236075 -0.777413\n",
      "4  0.621340 -0.181166\n",
      "5  0.226475  0.577294\n",
      "6  0.309932  0.181505\n",
      "7  1.206437 -0.091978\n",
      "8 -1.250016 -0.130405\n",
      "9 -1.414663  0.443463\n"
     ]
    }
   ],
   "source": [
    "import pandas as pd\n",
    "import numpy as np\n",
    "unsorted_df=pd.DataFrame(np.random.randn(10,2),index=[1,4,6,2,3,5,9,8,0,7],columns=['col1','col2'])\n",
    "sorted_df=unsorted_df.sort_index()\n",
    "print(sorted_df)"
   ]
  },
  {
   "cell_type": "code",
   "execution_count": 4,
   "metadata": {},
   "outputs": [
    {
     "name": "stdout",
     "output_type": "stream",
     "text": [
      "       col1      col2\n",
      "9  0.961307  1.151356\n",
      "8 -1.624490  0.825237\n",
      "7 -0.172802  0.978853\n",
      "6 -0.643795 -2.463068\n",
      "5 -1.066882  0.873999\n",
      "4 -0.756315  0.518391\n",
      "3  1.372847  0.006466\n",
      "2  0.198175 -0.255784\n",
      "1 -0.676781  0.616047\n",
      "0  1.062789 -2.720761\n"
     ]
    }
   ],
   "source": [
    "import pandas as pd\n",
    "import numpy as np\n",
    "unsorted_df=pd.DataFrame(np.random.randn(10,2),index=[1,4,6,2,3,5,9,8,0,7],columns=['col1','col2'])\n",
    "sorted_df=unsorted_df.sort_index(ascending=False)\n",
    "print(sorted_df)"
   ]
  },
  {
   "cell_type": "code",
   "execution_count": 5,
   "metadata": {},
   "outputs": [
    {
     "name": "stdout",
     "output_type": "stream",
     "text": [
      "       col1      col2\n",
      "1 -1.699324  0.328335\n",
      "4  0.590240  1.986217\n",
      "6  1.572089  1.804819\n",
      "2  1.440780  0.375764\n",
      "3  0.823979 -1.023684\n",
      "5 -0.321229  2.064396\n",
      "9 -0.815599  2.230638\n",
      "8 -1.023540  0.924285\n",
      "0 -0.437164 -0.203326\n",
      "7  1.283398  0.661190\n"
     ]
    }
   ],
   "source": [
    "import pandas as pd\n",
    "import numpy as np\n",
    "unsorted_df=pd.DataFrame(np.random.randn(10,2),index=[1,4,6,2,3,5,9,8,0,7],columns=['col1','col2'])\n",
    "sorted_df=unsorted_df.sort_index(axis=1)\n",
    "print(sorted_df)"
   ]
  },
  {
   "cell_type": "code",
   "execution_count": 9,
   "metadata": {},
   "outputs": [
    {
     "name": "stdout",
     "output_type": "stream",
     "text": [
      "   col1  col2\n",
      "1     1     3\n",
      "2     1     2\n",
      "3     1     4\n",
      "0     2     1\n"
     ]
    }
   ],
   "source": [
    "import pandas as pd\n",
    "import numpy as np\n",
    "unsorted_df=pd.DataFrame({'col1':[2,1,1,1],'col2':[1,3,2,4]})\n",
    "sorted_df=unsorted_df.sort_values(by='col1')\n",
    "print(sorted_df)"
   ]
  },
  {
   "cell_type": "code",
   "execution_count": 14,
   "metadata": {},
   "outputs": [
    {
     "name": "stdout",
     "output_type": "stream",
     "text": [
      "   col1  col2\n",
      "2     1     2\n",
      "1     1     3\n",
      "3     1     4\n",
      "0     2     1\n"
     ]
    }
   ],
   "source": [
    "import pandas as pd\n",
    "import numpy as np\n",
    "unsorted_df=pd.DataFrame({'col1':[2,1,1,1],'col2':[1,3,2,4]})\n",
    "sorted_df=unsorted_df.sort_values(by=['col1','col2'])\n",
    "print(sorted_df)"
   ]
  },
  {
   "cell_type": "code",
   "execution_count": 12,
   "metadata": {},
   "outputs": [
    {
     "name": "stdout",
     "output_type": "stream",
     "text": [
      "   col1  col2\n",
      "1     1     3\n",
      "2     1     2\n",
      "3     1     4\n",
      "0     2     1\n"
     ]
    }
   ],
   "source": [
    "import pandas as pd\n",
    "import numpy as np\n",
    "unsorted_df=pd.DataFrame({'col1':[2,1,1,1],'col2':[1,3,2,4]})\n",
    "sorted_df=unsorted_df.sort_values(by='col1',kind='mergesort')\n",
    "print(sorted_df)"
   ]
  },
  {
   "cell_type": "code",
   "execution_count": null,
   "metadata": {},
   "outputs": [],
   "source": []
  }
 ],
 "metadata": {
  "kernelspec": {
   "display_name": "Python 3",
   "language": "python",
   "name": "python3"
  },
  "language_info": {
   "codemirror_mode": {
    "name": "ipython",
    "version": 3
   },
   "file_extension": ".py",
   "mimetype": "text/x-python",
   "name": "python",
   "nbconvert_exporter": "python",
   "pygments_lexer": "ipython3",
   "version": "3.8.3"
  }
 },
 "nbformat": 4,
 "nbformat_minor": 4
}
