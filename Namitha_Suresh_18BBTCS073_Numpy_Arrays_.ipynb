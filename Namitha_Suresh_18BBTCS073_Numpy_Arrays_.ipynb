{
  "nbformat": 4,
  "nbformat_minor": 0,
  "metadata": {
    "colab": {
      "name": "Namitha Suresh 18BBTCS073 - Numpy Arrays .ipynb",
      "provenance": [],
      "collapsed_sections": []
    },
    "kernelspec": {
      "name": "python3",
      "display_name": "Python 3"
    },
    "language_info": {
      "name": "python"
    }
  },
  "cells": [
    {
      "cell_type": "code",
      "metadata": {
        "colab": {
          "base_uri": "https://localhost:8080/"
        },
        "id": "s06C4eZdlThp",
        "outputId": "71d3fa91-ea84-49d8-edff-a79ad718e628"
      },
      "source": [
        "import numpy as np\n",
        "npa=np.array([1,2,3])\n",
        "print(npa)"
      ],
      "execution_count": null,
      "outputs": [
        {
          "output_type": "stream",
          "name": "stdout",
          "text": [
            "[1 2 3]\n"
          ]
        }
      ]
    },
    {
      "cell_type": "code",
      "metadata": {
        "colab": {
          "base_uri": "https://localhost:8080/"
        },
        "id": "Z8bYrAExlroG",
        "outputId": "afcdf24d-5ed6-4d9f-d705-9fa964585b12"
      },
      "source": [
        "import numpy as np\n",
        "a=np.array([[1,2,3,4],[5,6,7,8],[9,10,11,12]])\n",
        "print(a)"
      ],
      "execution_count": null,
      "outputs": [
        {
          "output_type": "stream",
          "name": "stdout",
          "text": [
            "[[ 1  2  3  4]\n",
            " [ 5  6  7  8]\n",
            " [ 9 10 11 12]]\n"
          ]
        }
      ]
    },
    {
      "cell_type": "code",
      "metadata": {
        "colab": {
          "base_uri": "https://localhost:8080/"
        },
        "id": "3TQ79rQVl7zl",
        "outputId": "ae5d93ab-f151-4f01-e32c-b708a1b887cd"
      },
      "source": [
        "import numpy as np\n",
        "a=np.zeros(2)\n",
        "print(a)"
      ],
      "execution_count": null,
      "outputs": [
        {
          "output_type": "stream",
          "name": "stdout",
          "text": [
            "[0. 0.]\n"
          ]
        }
      ]
    },
    {
      "cell_type": "code",
      "metadata": {
        "colab": {
          "base_uri": "https://localhost:8080/"
        },
        "id": "0JDB8S4umJ0n",
        "outputId": "e0bff5d1-6460-4850-b670-be6fb7faa444"
      },
      "source": [
        "import numpy as np\n",
        "a=np.ones(4)\n",
        "print(a)"
      ],
      "execution_count": null,
      "outputs": [
        {
          "output_type": "stream",
          "name": "stdout",
          "text": [
            "[1. 1. 1. 1.]\n"
          ]
        }
      ]
    },
    {
      "cell_type": "code",
      "metadata": {
        "colab": {
          "base_uri": "https://localhost:8080/"
        },
        "id": "zmjejVVnmP6Q",
        "outputId": "3b2c9fff-1b10-411f-9679-2ab53982fb35"
      },
      "source": [
        "import numpy as np\n",
        "a=np.empty(4)\n",
        "print(a)"
      ],
      "execution_count": null,
      "outputs": [
        {
          "output_type": "stream",
          "name": "stdout",
          "text": [
            "[1. 1. 1. 1.]\n"
          ]
        }
      ]
    },
    {
      "cell_type": "code",
      "metadata": {
        "colab": {
          "base_uri": "https://localhost:8080/"
        },
        "id": "rQuOdr9zmjkM",
        "outputId": "0dd04b90-0c5e-415a-edd2-805a359c7143"
      },
      "source": [
        "import numpy as np\n",
        "a=np.arange(7)\n",
        "print(a)"
      ],
      "execution_count": null,
      "outputs": [
        {
          "output_type": "stream",
          "name": "stdout",
          "text": [
            "[0 1 2 3 4 5 6]\n"
          ]
        }
      ]
    },
    {
      "cell_type": "code",
      "metadata": {
        "colab": {
          "base_uri": "https://localhost:8080/"
        },
        "id": "a69sP5-QmtlJ",
        "outputId": "341bd591-6745-4467-cf1d-57bfe15a1d40"
      },
      "source": [
        "import numpy as np\n",
        "a=np.arange(2,9,2)\n",
        "print(a)"
      ],
      "execution_count": null,
      "outputs": [
        {
          "output_type": "stream",
          "name": "stdout",
          "text": [
            "[2 4 6 8]\n"
          ]
        }
      ]
    },
    {
      "cell_type": "code",
      "metadata": {
        "colab": {
          "base_uri": "https://localhost:8080/"
        },
        "id": "9bNXfIQjm2nY",
        "outputId": "5e15e9dd-1d41-492a-86ae-17cd6abcfafa"
      },
      "source": [
        "a=np.ones(2, dtype=int)\n",
        "print(a)\n",
        "a"
      ],
      "execution_count": null,
      "outputs": [
        {
          "output_type": "stream",
          "name": "stdout",
          "text": [
            "[1 1]\n"
          ]
        },
        {
          "output_type": "execute_result",
          "data": {
            "text/plain": [
              "array([1, 1])"
            ]
          },
          "metadata": {},
          "execution_count": 12
        }
      ]
    },
    {
      "cell_type": "code",
      "metadata": {
        "colab": {
          "base_uri": "https://localhost:8080/"
        },
        "id": "4HYFBlwYnWmA",
        "outputId": "75321eb0-f20b-48ba-9e31-597fb6c01c49"
      },
      "source": [
        "arr=np.array([1,2,3,4,5,6,7,8])\n",
        "print(arr)"
      ],
      "execution_count": null,
      "outputs": [
        {
          "output_type": "stream",
          "name": "stdout",
          "text": [
            "[1 2 3 4 5 6 7 8]\n"
          ]
        }
      ]
    },
    {
      "cell_type": "code",
      "metadata": {
        "colab": {
          "base_uri": "https://localhost:8080/"
        },
        "id": "Weon42PEniyT",
        "outputId": "4056c008-d0b8-47cc-e490-879e714ccee1"
      },
      "source": [
        "arr=np.array([1,2,3,4,5,6,7,8])\n",
        "print(arr)\n",
        "arr=np.delete(arr,1)\n",
        "print(arr)"
      ],
      "execution_count": null,
      "outputs": [
        {
          "output_type": "stream",
          "name": "stdout",
          "text": [
            "[1 2 3 4 5 6 7 8]\n",
            "[1 3 4 5 6 7 8]\n"
          ]
        }
      ]
    },
    {
      "cell_type": "code",
      "metadata": {
        "colab": {
          "base_uri": "https://localhost:8080/"
        },
        "id": "ClXxcKucn5K2",
        "outputId": "121dc909-6644-4222-b27b-dc4aa92c3382"
      },
      "source": [
        "a=np.array([98,77,23,2,8,65,12])\n",
        "print(a)\n",
        "a=np.sort(a)\n",
        "print(a)"
      ],
      "execution_count": null,
      "outputs": [
        {
          "output_type": "stream",
          "name": "stdout",
          "text": [
            "[98 77 23  2  8 65 12]\n",
            "[ 2  8 12 23 65 77 98]\n"
          ]
        }
      ]
    },
    {
      "cell_type": "code",
      "metadata": {
        "colab": {
          "base_uri": "https://localhost:8080/"
        },
        "id": "-XyeMTMfoLqz",
        "outputId": "eb601451-7726-4515-86b0-2e769c1883a9"
      },
      "source": [
        "import numpy as np\n",
        "arr=np.array([[1,2,3,],[4,5,6]])\n",
        "a=arr.ndim\n",
        "print(arr)\n",
        "print(\"dimensions=\",a)"
      ],
      "execution_count": null,
      "outputs": [
        {
          "output_type": "stream",
          "name": "stdout",
          "text": [
            "[[1 2 3]\n",
            " [4 5 6]]\n",
            "dimensions= 2\n"
          ]
        }
      ]
    },
    {
      "cell_type": "code",
      "metadata": {
        "colab": {
          "base_uri": "https://localhost:8080/"
        },
        "id": "L6_T9AHhpZM1",
        "outputId": "8ef87ca3-9b91-43ed-deae-744beb121cb6"
      },
      "source": [
        "import numpy as np\n",
        "arr=np.array([[[1,2,3],[4,5,6]],[[11,22,33],[44,55,66]]])\n",
        "a=arr.ndim\n",
        "b=arr.size\n",
        "print(arr)\n",
        "print(\"dimensions = \",a)\n",
        "print(\"size = \",b)"
      ],
      "execution_count": null,
      "outputs": [
        {
          "output_type": "stream",
          "name": "stdout",
          "text": [
            "[[[ 1  2  3]\n",
            "  [ 4  5  6]]\n",
            "\n",
            " [[11 22 33]\n",
            "  [44 55 66]]]\n",
            "dimensions =  3\n",
            "size =  12\n"
          ]
        }
      ]
    },
    {
      "cell_type": "code",
      "metadata": {
        "colab": {
          "base_uri": "https://localhost:8080/"
        },
        "id": "RPxlZd_8qlwl",
        "outputId": "8b9cadd6-75e7-44aa-fd69-4b5af7b35a9a"
      },
      "source": [
        "import numpy as np\n",
        "a=np.array(42)\n",
        "b=np.array([1,2,3,4,5])\n",
        "c=np.array([[1,2,3],[4,5,6]])\n",
        "d=np.array([[[1,2,3],[4,5,6]],[[1,2,3],[4,5,6]]])\n",
        "print(a)\n",
        "print(\"dimension= \",a.ndim)\n",
        "print(b)\n",
        "print(\"dimension= \",b.ndim)\n",
        "print(c)\n",
        "print(\"dimensions=\",c.ndim)\n",
        "print(d)\n",
        "print(\"dimensions= \",d.ndim)"
      ],
      "execution_count": null,
      "outputs": [
        {
          "output_type": "stream",
          "name": "stdout",
          "text": [
            "42\n",
            "dimension=  0\n",
            "[1 2 3 4 5]\n",
            "dimension=  1\n",
            "[[1 2 3]\n",
            " [4 5 6]]\n",
            "dimensions= 2\n",
            "[[[1 2 3]\n",
            "  [4 5 6]]\n",
            "\n",
            " [[1 2 3]\n",
            "  [4 5 6]]]\n",
            "dimensions=  3\n"
          ]
        }
      ]
    },
    {
      "cell_type": "code",
      "metadata": {
        "colab": {
          "base_uri": "https://localhost:8080/"
        },
        "id": "5H4_Q8M_rX_S",
        "outputId": "dbef9c2b-be68-49f1-8bd6-19863aa0a5dc"
      },
      "source": [
        "import numpy as np\n",
        "arr=np.array([[1,2,3,4],[5,6,7,8]])\n",
        "print(arr.shape)\n"
      ],
      "execution_count": null,
      "outputs": [
        {
          "output_type": "stream",
          "name": "stdout",
          "text": [
            "(2, 4)\n"
          ]
        }
      ]
    },
    {
      "cell_type": "code",
      "metadata": {
        "colab": {
          "base_uri": "https://localhost:8080/"
        },
        "id": "8quDnzXBrpO-",
        "outputId": "562eae78-3669-4aa3-9c83-5533f37da545"
      },
      "source": [
        "a=np.arange(6)\n",
        "print(a)\n",
        "b=a.reshape(3,2)\n",
        "print(b)"
      ],
      "execution_count": null,
      "outputs": [
        {
          "output_type": "stream",
          "name": "stdout",
          "text": [
            "[0 1 2 3 4 5]\n",
            "[[0 1]\n",
            " [2 3]\n",
            " [4 5]]\n"
          ]
        }
      ]
    }
  ]
}