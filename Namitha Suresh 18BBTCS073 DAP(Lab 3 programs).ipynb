{
  "nbformat": 4,
  "nbformat_minor": 0,
  "metadata": {
    "colab": {
      "name": "DAP Lab-3 programs.ipynb",
      "provenance": [],
      "collapsed_sections": []
    },
    "kernelspec": {
      "name": "python3",
      "display_name": "Python 3"
    },
    "language_info": {
      "name": "python"
    }
  },
  "cells": [
    {
      "cell_type": "code",
      "metadata": {
        "colab": {
          "base_uri": "https://localhost:8080/"
        },
        "id": "dGUBOGcTEWUb",
        "outputId": "4e43b372-d101-43fe-d7b7-e40cdadc54e4"
      },
      "source": [
        "print(\"Welcome to NaSa\")\n",
        "c=input(\"Do you want to recharge?(y/n)\")\n",
        "if c=='y'or c=='Y':\n",
        "    print(\"enter your credentials\")\n",
        "    name=input(\"Enter your name: \")\n",
        "    mobilenumber=int(input(\"Enter your mobile number: \"))\n",
        "    print(\"Recharge\")\n",
        "    print(\"Select your package:\")\n",
        "    package=input(\"Enter your needed package: 1GB/1.5GB/2GB/3GB\")\n",
        "    def oneGB():\n",
        "        print(\"You have selected 1GB data for 30 days\")\n",
        "        print(\"Your amount is: 100\")\n",
        "        print(\"Payment successful!!!\")\n",
        "    \n",
        "    def onefiveGB():\n",
        "        print(\"You have selected 1.5GB data for 30 days\")\n",
        "        print(\"Your amount is : 150\")\n",
        "        print(\"Payment successful!!!\")\n",
        "\n",
        "    def twoGB():\n",
        "        print(\"You have selected 2GB data for 30 days\")\n",
        "        print(\"Your amount is: 200\")\n",
        "        print(\"Payment successful!!!\")\n",
        "\n",
        "    def threeGB():\n",
        "        print(\"You have selected 3GB data for 30 days\")\n",
        "        print(\"Your amount is: 300\")\n",
        "        print(\"Payment successful!!!\")\n",
        "\n",
        "    if package=='1GB':\n",
        "        oneGB()\n",
        "    if package=='1.5GB':\n",
        "        onefiveGB()\n",
        "    if package=='2GB':\n",
        "        twoGB()\n",
        "    if package=='3GB':\n",
        "        threeGB()\n",
        "    \n",
        "        \n",
        "    print(\"Thank you for recharging, enjoy your calls and netsurfing :) \")\n",
        "elif c=='n'or c=='N':\n",
        "    print(\"Thank You, visit us again :) \")\n",
        "           "
      ],
      "execution_count": null,
      "outputs": [
        {
          "output_type": "stream",
          "text": [
            "Welcome to NaSa\n",
            "Do you want to recharge?(y/n)y\n",
            "enter your credentials\n",
            "Enter your name: Namitha Suresh\n",
            "Enter your mobile number: 9243437681\n",
            "Recharge\n",
            "Select your package:\n",
            "Enter your needed package: 1GB/1.5GB/2GB/3GB2GB\n",
            "You have selected 2GB data for 30 days\n",
            "Your amount is: 200\n",
            "Payment successful!!!\n",
            "Thank you for recharging, enjoy your calls and netsurfing :) \n"
          ],
          "name": "stdout"
        }
      ]
    },
    {
      "cell_type": "code",
      "metadata": {
        "colab": {
          "base_uri": "https://localhost:8080/"
        },
        "id": "rtU4ReoNG14K",
        "outputId": "c9268dab-6093-4c7a-8af7-658213f1d8d0"
      },
      "source": [
        "#design a system for landlord and tenant communication\n",
        "\n",
        "print(\"Welcome to HOME:\")\n",
        "print(\"This is the owner, Namitha Suresh here!!!\")\n",
        "c=input(\"Would you like to take my home on rent(y/n)?\")\n",
        "if c=='y' or c=='Y':\n",
        "  print(\"Pay your advance of Rs.1,00,000\")\n",
        "  print(\"Maintenance fee to paid by yourself, Rs.1000\")\n",
        "  Duration=input(\"Enter your duration needed: (1month/ 6months / 1year)\")\n",
        "  def onemonth():\n",
        "    print(\"Your rent for 1 month is Rs.10,000\")\n",
        "    print(\"Maintenance fee: Rs1000 \")\n",
        "    print(\"Pay a total amount of Rs.11,000\")\n",
        "    print(\"Enjoy your stay :) \")\n",
        "  def sixmonths():\n",
        "    print(\"Your rent for 6 month is Rs.54,000\")\n",
        "    print(\"Maintenance fee: Rs1000 each month \")\n",
        "    print(\"Pay a total amount of Rs.60,000\")\n",
        "    print(\"Enjoy your stay :) \")\n",
        "  def oneyear():\n",
        "    print(\"Your rent for 1 year is Rs.88,000\")\n",
        "    print(\"Maintenance fee: Rs1000 each month\")\n",
        "    print(\"Pay a total amount of Rs.1,00,000\")\n",
        "    print(\"Enjoy your stay :) \")\n",
        "\n",
        "\n",
        "  if Duration=='1month':\n",
        "      onemonth()\n",
        "  if Duration=='6months':\n",
        "      sixmonths()\n",
        "  if Duration =='1year':\n",
        "      oneyear()\n",
        "\n",
        "elif c=='n' or c=='N':\n",
        "  print(\"Thank you for visiting us, do recommend to your dear ones\")\n"
      ],
      "execution_count": null,
      "outputs": [
        {
          "output_type": "stream",
          "text": [
            "Welcome to HOME:\n",
            "This is the owner, Namitha Suresh here!!!\n",
            "Would you like to take my home on rent(y/n)?n\n",
            "Thank you for visiting us, do recommend to your dear ones\n"
          ],
          "name": "stdout"
        }
      ]
    },
    {
      "cell_type": "code",
      "metadata": {
        "colab": {
          "base_uri": "https://localhost:8080/"
        },
        "id": "OvAfIPmfQ7Qo",
        "outputId": "5d93e183-ec35-4b6d-b7cd-ff3d4b448fdb"
      },
      "source": [
        "#design a food delivery app design\n",
        "print(\"Welcome to NaSa foods!!!\")\n",
        "c=input(print(\"Would you like to choose vegetarian foods or nonvegetarian foods(veg/nonveg)\"))\n",
        "def veg():\n",
        "  print(\"Relish your taste buds with NaSa's vegetarian foods!!!\")\n",
        "  print(\"*************MENU************\")\n",
        "  print(\"1.Dosa \\n2.Idli \\n3.Upma \\n4.Appam \\n5.Puttu \\n6.Idiyappam \")\n",
        "  d=input(\"Enter number of dosas:\") \n",
        "  print(d*30)\n",
        "  i=input(\"Enter number of idlis:\");\n",
        "  print(i*20)\n",
        "  u=input(\"Enter number of upmas you require:\")\n",
        "  print(u*35)\n",
        "  \n",
        "if c=='veg':\n",
        "  veg()\n"
      ],
      "execution_count": null,
      "outputs": [
        {
          "output_type": "stream",
          "text": [
            "Welcome to NaSa foods!!!\n",
            "Would you like to choose vegetarian foods or nonvegetarian foods(veg/nonveg)\n",
            "veg\n",
            "Relish your taste buds with NaSa's vegetarian foods!!!\n",
            "*************MENU************\n",
            "1.Dosa \n",
            "2.Idli \n",
            "3.Upma \n",
            "4.Appam \n",
            "5.Puttu \n",
            "6.Idiyappam \n"
          ],
          "name": "stdout"
        }
      ]
    }
  ]
}