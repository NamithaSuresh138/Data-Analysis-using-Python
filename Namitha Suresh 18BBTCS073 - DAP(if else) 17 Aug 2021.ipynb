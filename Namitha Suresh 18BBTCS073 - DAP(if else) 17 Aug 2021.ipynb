{
 "cells": [
  {
   "cell_type": "code",
   "execution_count": 1,
   "metadata": {},
   "outputs": [
    {
     "name": "stdout",
     "output_type": "stream",
     "text": [
      "enter the number26\n",
      "Number is even\n",
      "bye\n"
     ]
    }
   ],
   "source": [
    "num=int(input(\"enter the number\"))\n",
    "if num%2==0:\n",
    "    print(\"Number is even\")\n",
    "print(\"bye\")"
   ]
  },
  {
   "cell_type": "code",
   "execution_count": 2,
   "metadata": {},
   "outputs": [
    {
     "name": "stdout",
     "output_type": "stream",
     "text": [
      "enter-a1\n",
      "enter-b2\n",
      "enter-c3\n",
      "c is largest\n"
     ]
    }
   ],
   "source": [
    "a=int(input(\"enter-a\"))\n",
    "b=int(input(\"enter-b\"))\n",
    "c=int(input(\"enter-c\"))\n",
    "if a>b and a>c:\n",
    "    print(\"a is largest\");\n",
    "if b>a and b>c:\n",
    "    print(\"b is largest\");\n",
    "if c>a and c>b:\n",
    "    print(\"c is largest\");"
   ]
  },
  {
   "cell_type": "code",
   "execution_count": 3,
   "metadata": {},
   "outputs": [
    {
     "name": "stdout",
     "output_type": "stream",
     "text": [
      "enter your age20\n",
      "You are eligible to vote!!\n"
     ]
    }
   ],
   "source": [
    "age=int(input(\"enter your age\"))\n",
    "if age>=18:\n",
    "    print(\"You are eligible to vote!!\");\n",
    "else:\n",
    "    print(\"Sorry you have to wait\");"
   ]
  },
  {
   "cell_type": "code",
   "execution_count": 4,
   "metadata": {},
   "outputs": [
    {
     "name": "stdout",
     "output_type": "stream",
     "text": [
      "Enter a number: 7\n",
      "Number is odd\n"
     ]
    }
   ],
   "source": [
    "num=int(input(\"Enter a number: \"));\n",
    "if num%2==0:\n",
    "    print(\"Number is even\");\n",
    "else:\n",
    "    print(\"Number is odd\");"
   ]
  },
  {
   "cell_type": "code",
   "execution_count": 8,
   "metadata": {},
   "outputs": [
    {
     "name": "stdout",
     "output_type": "stream",
     "text": [
      "Enter the number:1\n",
      "Number is not equal to 10,50 or 100\n"
     ]
    }
   ],
   "source": [
    "number=int(input(\"Enter the number:\"))\n",
    "if number==10:\n",
    "    print(\"Number is equals to 10\");\n",
    "elif number==50:\n",
    "    print(\"Number is equals to 50\");\n",
    "elif number==100:\n",
    "    print(\"Number equals to 100\");\n",
    "else:\n",
    "    print(\"Number is not equal to 10,50 or 100\");\n",
    "    "
   ]
  },
  {
   "cell_type": "code",
   "execution_count": 7,
   "metadata": {},
   "outputs": [
    {
     "name": "stdout",
     "output_type": "stream",
     "text": [
      "Enter your marks95\n",
      "Congrats ! you scored grade A\n"
     ]
    }
   ],
   "source": [
    "marks=int(input(\"Enter your marks\"))\n",
    "if marks>85 and marks<=100:\n",
    "    print(\"Congrats ! you scored grade A\")\n",
    "elif marks>60 and marks<=85:\n",
    "    print(\"You scored B+\")\n",
    "elif marks>40 and marks<=60:\n",
    "    print(\"You scored B\")\n",
    "elif marks>30 and marks<=40:\n",
    "    print(\"You scored grade C\")\n",
    "else:\n",
    "    print(\"Sorry you are failed\")"
   ]
  },
  {
   "cell_type": "code",
   "execution_count": null,
   "metadata": {},
   "outputs": [],
   "source": []
  }
 ],
 "metadata": {
  "kernelspec": {
   "display_name": "Python 3",
   "language": "python",
   "name": "python3"
  },
  "language_info": {
   "codemirror_mode": {
    "name": "ipython",
    "version": 3
   },
   "file_extension": ".py",
   "mimetype": "text/x-python",
   "name": "python",
   "nbconvert_exporter": "python",
   "pygments_lexer": "ipython3",
   "version": "3.8.3"
  }
 },
 "nbformat": 4,
 "nbformat_minor": 4
}
