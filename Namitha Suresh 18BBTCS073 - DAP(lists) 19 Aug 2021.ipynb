{
 "cells": [
  {
   "cell_type": "code",
   "execution_count": 1,
   "metadata": {},
   "outputs": [
    {
     "name": "stdout",
     "output_type": "stream",
     "text": [
      "list1[0]:  1998\n",
      "list2[1:3]:  [2, 3]\n"
     ]
    }
   ],
   "source": [
    "list1=['Kerala','Bangalore',1998,2000];\n",
    "list2=[1,2,3,4,5,6,7];\n",
    "print(\"list1[0]: \",list1[2])\n",
    "print(\"list2[1:3]: \",list2[1:3])"
   ]
  },
  {
   "cell_type": "code",
   "execution_count": 3,
   "metadata": {},
   "outputs": [
    {
     "name": "stdout",
     "output_type": "stream",
     "text": [
      "Value available at index 2 :\n",
      "1998\n",
      "New value available at index 2: \n",
      "999999\n"
     ]
    }
   ],
   "source": [
    "list=['Kerala','Bangalore',1998,2000,2004];\n",
    "print(\"Value available at index 2 :\")\n",
    "print(list[2])\n",
    "list[2]=999999;\n",
    "print(\"New value available at index 2: \")\n",
    "print(list[2])"
   ]
  },
  {
   "cell_type": "code",
   "execution_count": 5,
   "metadata": {},
   "outputs": [
    {
     "name": "stdout",
     "output_type": "stream",
     "text": [
      "['physics', 'chemistry', 2020, 2000]\n",
      "After deleting value at index 2 : \n",
      "['physics', 'chemistry', 2000]\n"
     ]
    }
   ],
   "source": [
    "list1=['physics','chemistry',2020,2000];\n",
    "print(list1)\n",
    "del (list1[2]);\n",
    "print(\"After deleting value at index 2 : \")\n",
    "print(list1)"
   ]
  },
  {
   "cell_type": "code",
   "execution_count": 7,
   "metadata": {},
   "outputs": [
    {
     "name": "stdout",
     "output_type": "stream",
     "text": [
      "First list length :  3\n",
      "Second list length :  3\n"
     ]
    }
   ],
   "source": [
    "list1, list2=[123,\"namitha\",\"nithin\"],[6298,\"maya\",\"suresh\"]\n",
    "print(\"First list length : \",len(list1))\n",
    "print(\"Second list length : \",len(list2))"
   ]
  },
  {
   "cell_type": "code",
   "execution_count": 8,
   "metadata": {},
   "outputs": [
    {
     "name": "stdout",
     "output_type": "stream",
     "text": [
      "Updated List :  [123, 'namitha', 'nithin', 'maya', 'suresh', 1998]\n"
     ]
    }
   ],
   "source": [
    "aList=[123,'namitha','nithin','maya','suresh'];\n",
    "aList.append(1998);\n",
    "print(\"Updated List : \",aList)\n"
   ]
  },
  {
   "cell_type": "code",
   "execution_count": 13,
   "metadata": {},
   "outputs": [
    {
     "name": "stdout",
     "output_type": "stream",
     "text": [
      "Count for xyz :  1\n",
      "Count for abc :  1\n"
     ]
    }
   ],
   "source": [
    "aList=[123,'xyz','abc','tuv',678];\n",
    "print(\"Count for xyz : \",aList.count('xyz'))\n",
    "print(\"Count for abc : \",aList.count('abc'))"
   ]
  },
  {
   "cell_type": "code",
   "execution_count": 15,
   "metadata": {},
   "outputs": [
    {
     "name": "stdout",
     "output_type": "stream",
     "text": [
      "Extended List :  [123, 'xyz', 'uvw', 'abc', 'namitha', 2000, 'suresh']\n"
     ]
    }
   ],
   "source": [
    "aList=[123,'xyz','uvw','abc','namitha'];\n",
    "bList=[2000,\"suresh\"];\n",
    "aList.extend(bList)\n",
    "print(\"Extended List : \",aList)"
   ]
  },
  {
   "cell_type": "code",
   "execution_count": 16,
   "metadata": {},
   "outputs": [
    {
     "name": "stdout",
     "output_type": "stream",
     "text": [
      "Index for xyz :  1\n",
      "Index for abc :  3\n"
     ]
    }
   ],
   "source": [
    "aList=[123,'xyz','uvw','abc','efg'];\n",
    "print(\"Index for xyz : \",aList.index('xyz'))\n",
    "print(\"Index for abc : \",aList.index('abc'))"
   ]
  },
  {
   "cell_type": "code",
   "execution_count": 19,
   "metadata": {},
   "outputs": [
    {
     "name": "stdout",
     "output_type": "stream",
     "text": [
      "Final List :  [123, 'xyz', 'namitha', 2000, 'abc']\n"
     ]
    }
   ],
   "source": [
    "aList=[123,'xyz','namitha','abc']\n",
    "aList.insert(3,2000)\n",
    "print(\"Final List : \",aList)"
   ]
  },
  {
   "cell_type": "code",
   "execution_count": 2,
   "metadata": {},
   "outputs": [
    {
     "name": "stdout",
     "output_type": "stream",
     "text": [
      "[123, 'namitha', 'suresh', 'Bangalore']\n",
      "List after popping last element :  Bangalore\n",
      "[123, 'namitha', 'suresh']\n",
      "List after popping element from mentioned index:  suresh\n",
      "[123, 'namitha']\n",
      "[123, 'namitha', 2000]\n"
     ]
    }
   ],
   "source": [
    "aList=[123,'namitha','suresh','Bangalore'];\n",
    "print(aList)\n",
    "print(\"List after popping last element : \",aList.pop())\n",
    "print(aList)\n",
    "print(\"List after popping element from mentioned index: \",aList.pop(2))\n",
    "print(aList)\n",
    "aList.insert(3,2000)\n",
    "print(aList)"
   ]
  },
  {
   "cell_type": "code",
   "execution_count": 3,
   "metadata": {},
   "outputs": [
    {
     "name": "stdout",
     "output_type": "stream",
     "text": [
      "List :  [2004, 'a', 'c', 'd']\n",
      "List :  [2004, 'a', 'c']\n"
     ]
    }
   ],
   "source": [
    "aList=[2004,'a','b','c','d'];\n",
    "aList.remove('b');\n",
    "print(\"List : \",aList)\n",
    "aList.remove('d');\n",
    "print(\"List : \",aList)"
   ]
  },
  {
   "cell_type": "code",
   "execution_count": 4,
   "metadata": {},
   "outputs": [
    {
     "name": "stdout",
     "output_type": "stream",
     "text": [
      "List:  ['Namitha', 'Nithin', 'Maya', 'Suresh']\n"
     ]
    }
   ],
   "source": [
    "aList=['Suresh','Maya','Nithin','Namitha'];\n",
    "aList.reverse();\n",
    "print(\"List: \",aList)"
   ]
  },
  {
   "cell_type": "code",
   "execution_count": 5,
   "metadata": {},
   "outputs": [
    {
     "name": "stdout",
     "output_type": "stream",
     "text": [
      "List :  ['Maya', 'Namitha', 'Nithin', 'Suresh']\n"
     ]
    }
   ],
   "source": [
    "aList=['Suresh','Maya','Nithin','Namitha'];\n",
    "aList.sort();\n",
    "print(\"List : \",aList)"
   ]
  },
  {
   "cell_type": "code",
   "execution_count": 7,
   "metadata": {},
   "outputs": [
    {
     "name": "stdout",
     "output_type": "stream",
     "text": [
      "List :  ['123', 'Maya', 'Namitha', 'Nithin', 'Suresh']\n"
     ]
    }
   ],
   "source": [
    "aList=['123','Suresh','Maya','Nithin','Namitha'];\n",
    "aList.sort();\n",
    "print(\"List : \",aList)"
   ]
  },
  {
   "cell_type": "code",
   "execution_count": null,
   "metadata": {},
   "outputs": [],
   "source": []
  }
 ],
 "metadata": {
  "kernelspec": {
   "display_name": "Python 3",
   "language": "python",
   "name": "python3"
  },
  "language_info": {
   "codemirror_mode": {
    "name": "ipython",
    "version": 3
   },
   "file_extension": ".py",
   "mimetype": "text/x-python",
   "name": "python",
   "nbconvert_exporter": "python",
   "pygments_lexer": "ipython3",
   "version": "3.8.3"
  }
 },
 "nbformat": 4,
 "nbformat_minor": 4
}
