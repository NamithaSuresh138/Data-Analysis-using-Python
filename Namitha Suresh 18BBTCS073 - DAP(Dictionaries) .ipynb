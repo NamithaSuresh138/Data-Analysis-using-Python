{
  "nbformat": 4,
  "nbformat_minor": 0,
  "metadata": {
    "colab": {
      "name": "Namitha Suresh 18BBTCS073 - DAP(Dictionaries).ipynb",
      "provenance": [],
      "collapsed_sections": []
    },
    "kernelspec": {
      "name": "python3",
      "display_name": "Python 3"
    },
    "language_info": {
      "name": "python"
    }
  },
  "cells": [
    {
      "cell_type": "code",
      "metadata": {
        "colab": {
          "base_uri": "https://localhost:8080/"
        },
        "id": "jJYcz6ALns3u",
        "outputId": "ff834ac2-99be-4e33-ee3a-6a1353e5a881"
      },
      "source": [
        "dict={'name':'Sarah','designation':'AsP','qual':'Phd','univ':'CMR'}\n",
        "print(dict['name'])\n",
        "print(dict['qual'])"
      ],
      "execution_count": null,
      "outputs": [
        {
          "output_type": "stream",
          "name": "stdout",
          "text": [
            "Sarah\n",
            "Phd\n"
          ]
        }
      ]
    },
    {
      "cell_type": "code",
      "metadata": {
        "colab": {
          "base_uri": "https://localhost:8080/"
        },
        "id": "SYNw7vhMoemP",
        "outputId": "37b53a76-bf84-4dd6-a647-4417dd701933"
      },
      "source": [
        "dict={'name':'Sarah','designation':'Asp','qual':'Phd','univ':'CMR'}\n",
        "dict['name']='Ann'\n",
        "print(dict['name'])\n",
        "dict['class']='cse7sem'\n",
        "print(dict['class'])"
      ],
      "execution_count": null,
      "outputs": [
        {
          "output_type": "stream",
          "name": "stdout",
          "text": [
            "Ann\n",
            "cse7sem\n"
          ]
        }
      ]
    },
    {
      "cell_type": "code",
      "metadata": {
        "id": "QHNg1ow8pCm8"
      },
      "source": [
        "dict={'name':'Sarah','designation':'Asp','qual':'Phd','univ':'CMR'}\n",
        "\n",
        "del dict['designation']\n",
        "#print(dict['designation'])\n",
        "dict.clear()\n",
        "#print(dict['name'])\n",
        "del dict"
      ],
      "execution_count": null,
      "outputs": []
    },
    {
      "cell_type": "code",
      "metadata": {
        "colab": {
          "base_uri": "https://localhost:8080/"
        },
        "id": "7llvVgg9pidA",
        "outputId": "d88e6e33-eb17-4058-ba1e-d94ad5ade19c"
      },
      "source": [
        "dict={'name':'Sarah','designation':'AsP','qual':'Phd','univ':'CMR','name':'Ann'}\n",
        "print(dict['name'])\n",
        "print(len(dict))"
      ],
      "execution_count": null,
      "outputs": [
        {
          "output_type": "stream",
          "name": "stdout",
          "text": [
            "Ann\n",
            "4\n"
          ]
        }
      ]
    },
    {
      "cell_type": "code",
      "metadata": {
        "colab": {
          "base_uri": "https://localhost:8080/"
        },
        "id": "PW04xBrqp3YJ",
        "outputId": "8fa836c9-5b8f-4571-ab0d-637bf2d75ad8"
      },
      "source": [
        "dict={'name':'Sarah','designation':'Asp','qual':'Phd','univ':'CMR','name':'Ann'}\n",
        "print(dict.values())\n",
        "print(dict.items())\n",
        "print(dict.keys())"
      ],
      "execution_count": null,
      "outputs": [
        {
          "output_type": "stream",
          "name": "stdout",
          "text": [
            "dict_values(['Ann', 'Asp', 'Phd', 'CMR'])\n",
            "dict_items([('name', 'Ann'), ('designation', 'Asp'), ('qual', 'Phd'), ('univ', 'CMR')])\n",
            "dict_keys(['name', 'designation', 'qual', 'univ'])\n"
          ]
        }
      ]
    },
    {
      "cell_type": "code",
      "metadata": {
        "colab": {
          "base_uri": "https://localhost:8080/"
        },
        "id": "NiLHAKcVqSaz",
        "outputId": "2c670083-c30c-41dc-e0c7-d6ff99d7795f"
      },
      "source": [
        "dict={'name':'Sarah','designation':'Asp','qual':'Phd','univ':'CMR','name':'Ann'}\n",
        "print(dict['name'])\n",
        "print(dict.get('edu',\"nothing\"))"
      ],
      "execution_count": null,
      "outputs": [
        {
          "output_type": "stream",
          "name": "stdout",
          "text": [
            "Ann\n",
            "nothing\n"
          ]
        }
      ]
    },
    {
      "cell_type": "code",
      "metadata": {
        "colab": {
          "base_uri": "https://localhost:8080/"
        },
        "id": "oZjF4rKeqw3e",
        "outputId": "d52268ea-8bd8-4eeb-ac67-e0b15df12266"
      },
      "source": [
        "dict={'name':'Sarah','designation':'Asp','qual':'Phd','univ':'CMR','name':'Ann'}\n",
        "dict2=dict.copy()\n",
        "print(dict2['name'])\n",
        "print(len(dict2))"
      ],
      "execution_count": null,
      "outputs": [
        {
          "output_type": "stream",
          "name": "stdout",
          "text": [
            "Ann\n",
            "4\n"
          ]
        }
      ]
    },
    {
      "cell_type": "code",
      "metadata": {
        "colab": {
          "base_uri": "https://localhost:8080/"
        },
        "id": "B_qyilslrPZk",
        "outputId": "6774c689-bbec-4b6e-cc3b-dc20979d7351"
      },
      "source": [
        "dict={'name':'Sarah','designation':'Asp','qual':'Phd','univ':'CMR','name':'Ann'}\n",
        "dict2={'edu':'btech-mtech','students':'7sem'}\n",
        "print(dict)\n",
        "print(dict2)\n",
        "dict.update(dict2)\n",
        "print(dict)"
      ],
      "execution_count": null,
      "outputs": [
        {
          "output_type": "stream",
          "name": "stdout",
          "text": [
            "{'name': 'Ann', 'designation': 'Asp', 'qual': 'Phd', 'univ': 'CMR'}\n",
            "{'edu': 'btech-mtech', 'students': '7sem'}\n",
            "{'name': 'Ann', 'designation': 'Asp', 'qual': 'Phd', 'univ': 'CMR', 'edu': 'btech-mtech', 'students': '7sem'}\n"
          ]
        }
      ]
    }
  ]
}