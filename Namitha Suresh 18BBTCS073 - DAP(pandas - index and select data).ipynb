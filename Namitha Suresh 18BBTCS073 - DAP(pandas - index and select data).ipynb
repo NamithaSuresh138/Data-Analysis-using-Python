{
 "cells": [
  {
   "cell_type": "code",
   "execution_count": 1,
   "metadata": {},
   "outputs": [
    {
     "name": "stdout",
     "output_type": "stream",
     "text": [
      "a   -0.371776\n",
      "b    0.498044\n",
      "c   -0.978963\n",
      "d    0.855874\n",
      "e    0.385885\n",
      "f    0.739920\n",
      "g    1.120262\n",
      "h    1.130838\n",
      "Name: A, dtype: float64\n"
     ]
    }
   ],
   "source": [
    "#import the pandas library and aliasing as pd\n",
    "import pandas as pd\n",
    "import numpy as np\n",
    "\n",
    "df=pd.DataFrame(np.random.randn(8, 4),\n",
    "index=['a','b','c','d','e','f','g','h'], columns=['A','B','C','D'])\n",
    "#select all rows for a specific column\n",
    "print(df.loc[:,'A'])"
   ]
  },
  {
   "cell_type": "code",
   "execution_count": 2,
   "metadata": {},
   "outputs": [
    {
     "name": "stdout",
     "output_type": "stream",
     "text": [
      "          A         C\n",
      "a -0.518740  0.817100\n",
      "b  0.951407 -1.916842\n",
      "c  0.669350 -0.320622\n",
      "d  0.617654 -1.062496\n",
      "e  1.603576  0.005859\n",
      "f -0.190271 -0.216577\n",
      "g -0.310288  1.189913\n",
      "h  1.439413  0.025339\n"
     ]
    }
   ],
   "source": [
    "import pandas as pd\n",
    "import numpy as np\n",
    "\n",
    "df=pd.DataFrame(np.random.randn(8,4),\n",
    "index=['a','b','c','d','e','f','g','h'],columns=['A','B','C','D'])\n",
    "\n",
    "#Select all rows for multiple columns, say list[]\n",
    "print(df.loc[:,['A','C']])"
   ]
  },
  {
   "cell_type": "code",
   "execution_count": 4,
   "metadata": {},
   "outputs": [
    {
     "name": "stdout",
     "output_type": "stream",
     "text": [
      "          A         C\n",
      "a  0.365860 -1.495317\n",
      "b  0.660697  0.005989\n",
      "f -0.838697 -0.846332\n",
      "h  2.060734 -0.045054\n"
     ]
    }
   ],
   "source": [
    "import pandas as pd\n",
    "import numpy as np\n",
    "\n",
    "df=pd.DataFrame(np.random.randn(8,4),\n",
    "index=['a','b','c','d','e','f','g','h'], columns=['A','B','C','D'])\n",
    "#Select few rows for multiple columns, say list[]\n",
    "print(df.loc[['a','b','f','h'],['A','C']])"
   ]
  },
  {
   "cell_type": "code",
   "execution_count": 5,
   "metadata": {},
   "outputs": [
    {
     "name": "stdout",
     "output_type": "stream",
     "text": [
      "          A         B         C         D\n",
      "a  2.016782 -2.053726  1.496214  0.287441\n",
      "b  0.246649  0.408542  0.798631 -1.001100\n",
      "c  1.362051  0.151681 -0.447535  1.174732\n",
      "d -1.151013  0.008965  1.123550 -0.230647\n"
     ]
    }
   ],
   "source": [
    "import pandas as pd\n",
    "import numpy as np\n",
    "\n",
    "df=pd.DataFrame(np.random.randn(8,4),\n",
    "index=['a','b','c','d','e','f','g','h'],columns=['A','B','C','D'])\n",
    "\n",
    "#Select range of rows for all columns\n",
    "print(df.loc['a':'d'])"
   ]
  },
  {
   "cell_type": "code",
   "execution_count": 6,
   "metadata": {},
   "outputs": [
    {
     "name": "stdout",
     "output_type": "stream",
     "text": [
      "          A         B         C         D\n",
      "a -0.159475 -0.863979 -2.053664  1.836238\n",
      "b -1.395808  0.368538 -0.205588 -0.249856\n",
      "c  2.446496 -1.496818 -0.242141  0.321152\n",
      "d  1.293527 -0.453168 -0.610526  0.259130\n",
      "e  0.631664 -0.148232  1.556397  0.162820\n",
      "f -1.626351 -0.997480  0.405622  0.300544\n",
      "g -0.248320  0.701003  1.098733 -2.354961\n",
      "h  1.744032  0.810202  0.442038 -1.223281\n",
      "A    False\n",
      "B    False\n",
      "C    False\n",
      "D     True\n",
      "Name: a, dtype: bool\n"
     ]
    }
   ],
   "source": [
    "import pandas as pd\n",
    "import numpy as np\n",
    "df=pd.DataFrame(np.random.randn(8,4),\n",
    "index=['a','b','c','d','e','f','g','h'], columns=['A','B','C','D'])\n",
    "print(df)\n",
    "#for getting values with a boolean array\n",
    "print(df.loc['a']>0)"
   ]
  },
  {
   "cell_type": "code",
   "execution_count": 7,
   "metadata": {},
   "outputs": [
    {
     "name": "stdout",
     "output_type": "stream",
     "text": [
      "          A         B         C         D\n",
      "0 -0.717047  1.698277  0.112798  1.709980\n",
      "1  1.378400  1.227979  1.359279  0.347610\n",
      "2 -0.135481  0.472497  1.328231  0.499305\n",
      "3 -0.092927  1.274448 -0.086675 -0.164415\n",
      "4  0.900838 -0.857095 -0.217887 -0.550697\n",
      "5  0.227449  0.032805  0.116249 -0.612741\n",
      "6  0.368747 -0.432697  0.843857  0.750200\n",
      "7 -1.838256 -1.839071 -0.566210 -1.721267\n",
      "          A         B         C         D\n",
      "0 -0.717047  1.698277  0.112798  1.709980\n",
      "1  1.378400  1.227979  1.359279  0.347610\n",
      "2 -0.135481  0.472497  1.328231  0.499305\n",
      "3 -0.092927  1.274448 -0.086675 -0.164415\n"
     ]
    }
   ],
   "source": [
    "#import the pandas library and aliasing as pd\n",
    "import pandas as pd\n",
    "import numpy as np\n",
    "df=pd.DataFrame(np.random.randn(8,4),columns=['A','B','C','D'])\n",
    "print(df)\n",
    "#select all rows for a specific column\n",
    "print(df.iloc[:4])"
   ]
  },
  {
   "cell_type": "code",
   "execution_count": 8,
   "metadata": {},
   "outputs": [
    {
     "name": "stdout",
     "output_type": "stream",
     "text": [
      "          A         B         C         D\n",
      "0  0.992935 -0.333453  0.220912  1.061310\n",
      "1 -0.986688  0.378835  0.919456  0.357137\n",
      "2 -0.542138  0.775830  0.303093  2.608660\n",
      "3  1.541766 -1.091653 -1.087180 -1.439201\n",
      "4 -1.191993 -1.334318 -2.380450  1.021436\n",
      "5  0.344687 -0.911020 -0.404550  0.391750\n",
      "6  0.259951 -0.199333 -0.647854 -1.674740\n",
      "7 -0.714934 -0.314150  1.281477  0.480063\n",
      "          A         B         C         D\n",
      "0  0.992935 -0.333453  0.220912  1.061310\n",
      "1 -0.986688  0.378835  0.919456  0.357137\n",
      "2 -0.542138  0.775830  0.303093  2.608660\n",
      "3  1.541766 -1.091653 -1.087180 -1.439201\n",
      "          C         D\n",
      "1  0.919456  0.357137\n",
      "2  0.303093  2.608660\n",
      "3 -1.087180 -1.439201\n",
      "4 -2.380450  1.021436\n"
     ]
    }
   ],
   "source": [
    "import pandas as pd\n",
    "import numpy as np\n",
    "\n",
    "df=pd.DataFrame(np.random.randn(8,4), columns=['A','B','C','D'])\n",
    "print(df)\n",
    "#Integer slicing\n",
    "print(df.iloc[:4])\n",
    "print(df.iloc[1:5,2:4])"
   ]
  },
  {
   "cell_type": "code",
   "execution_count": 9,
   "metadata": {},
   "outputs": [
    {
     "name": "stdout",
     "output_type": "stream",
     "text": [
      "          A         B         C         D\n",
      "0 -1.348805  1.048758  0.035804  1.371029\n",
      "1 -0.207033  0.608032  0.290864 -0.104791\n",
      "2 -0.824826  1.507057  1.260595  0.836279\n",
      "3  0.989996  0.609934  0.313079  1.224129\n",
      "4 -0.586724  0.862802  0.461307 -0.882444\n",
      "5 -0.051501  0.660222 -0.714724  0.509702\n",
      "6 -1.176829  0.206299  0.629281 -0.705504\n",
      "7  1.719449 -0.611397 -0.405429  0.492466\n",
      "          B         D\n",
      "1  0.608032 -0.104791\n",
      "3  0.609934  1.224129\n",
      "5  0.660222  0.509702\n",
      "          A         B         C         D\n",
      "1 -0.207033  0.608032  0.290864 -0.104791\n",
      "2 -0.824826  1.507057  1.260595  0.836279\n",
      "          B         C\n",
      "0  1.048758  0.035804\n",
      "1  0.608032  0.290864\n",
      "2  1.507057  1.260595\n",
      "3  0.609934  0.313079\n",
      "4  0.862802  0.461307\n",
      "5  0.660222 -0.714724\n",
      "6  0.206299  0.629281\n",
      "7 -0.611397 -0.405429\n"
     ]
    }
   ],
   "source": [
    "import pandas as pd\n",
    "import numpy as np\n",
    "df=pd.DataFrame(np.random.randn(8,4),columns=['A','B','C','D'])\n",
    "print(df)\n",
    "#Slicing through list of values\n",
    "print(df.iloc[[1,3,5],[1,3]])\n",
    "print(df.iloc[1:3,:])\n",
    "print(df.iloc[:,1:3])"
   ]
  },
  {
   "cell_type": "code",
   "execution_count": null,
   "metadata": {},
   "outputs": [],
   "source": []
  }
 ],
 "metadata": {
  "kernelspec": {
   "display_name": "Python 3",
   "language": "python",
   "name": "python3"
  },
  "language_info": {
   "codemirror_mode": {
    "name": "ipython",
    "version": 3
   },
   "file_extension": ".py",
   "mimetype": "text/x-python",
   "name": "python",
   "nbconvert_exporter": "python",
   "pygments_lexer": "ipython3",
   "version": "3.8.3"
  }
 },
 "nbformat": 4,
 "nbformat_minor": 4
}
