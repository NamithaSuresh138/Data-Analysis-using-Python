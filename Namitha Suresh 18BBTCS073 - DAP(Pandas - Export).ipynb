{
 "cells": [
  {
   "cell_type": "code",
   "execution_count": 4,
   "metadata": {},
   "outputs": [
    {
     "name": "stdout",
     "output_type": "stream",
     "text": [
      "   S.No. Name  Eng  Maths  Sci  Total\n",
      "0      1    a   34     56   77    167\n",
      "1      2    s   35     66   79    180\n",
      "2      3    d   36     76   81    193\n",
      "3      4    f   37     86   83    206\n",
      "4      5   gh   38     96   85    219\n",
      "5      6    j   39    106   87    232\n",
      "6      7   kk   40    116   89    245\n"
     ]
    }
   ],
   "source": [
    "import pandas as pd\n",
    "d=pd.read_excel(\"C:\\\\Users\\\\Namitha Suresh\\\\Downloads\\\\Books1.xlsx\")\n",
    "df=pd.DataFrame(d)\n",
    "print(df)"
   ]
  },
  {
   "cell_type": "code",
   "execution_count": 7,
   "metadata": {},
   "outputs": [
    {
     "name": "stdout",
     "output_type": "stream",
     "text": [
      "   S.No. Name  Eng  Maths  Sci  Total  Percentage\n",
      "0      1    a   34     56   77    167   55.666667\n",
      "1      2    s   35     66   79    180   60.000000\n",
      "2      3    d   36     76   81    193   64.333333\n",
      "3      4    f   37     86   83    206   68.666667\n",
      "4      5   gh   38     96   85    219   73.000000\n",
      "5      6    j   39    106   87    232   77.333333\n",
      "6      7   kk   40    116   89    245   81.666667\n"
     ]
    }
   ],
   "source": [
    "df['Percentage']=df['Total']/300*100\n",
    "print(df)"
   ]
  },
  {
   "cell_type": "code",
   "execution_count": 13,
   "metadata": {},
   "outputs": [
    {
     "data": {
      "text/html": [
       "<div>\n",
       "<style scoped>\n",
       "    .dataframe tbody tr th:only-of-type {\n",
       "        vertical-align: middle;\n",
       "    }\n",
       "\n",
       "    .dataframe tbody tr th {\n",
       "        vertical-align: top;\n",
       "    }\n",
       "\n",
       "    .dataframe thead th {\n",
       "        text-align: right;\n",
       "    }\n",
       "</style>\n",
       "<table border=\"1\" class=\"dataframe\">\n",
       "  <thead>\n",
       "    <tr style=\"text-align: right;\">\n",
       "      <th></th>\n",
       "      <th>S.No.</th>\n",
       "      <th>Name</th>\n",
       "      <th>Eng</th>\n",
       "      <th>Maths</th>\n",
       "      <th>Sci</th>\n",
       "      <th>Total</th>\n",
       "      <th>Percentage</th>\n",
       "    </tr>\n",
       "  </thead>\n",
       "  <tbody>\n",
       "    <tr>\n",
       "      <th>0</th>\n",
       "      <td>1</td>\n",
       "      <td>a</td>\n",
       "      <td>34</td>\n",
       "      <td>56</td>\n",
       "      <td>77</td>\n",
       "      <td>167</td>\n",
       "      <td>55.666667</td>\n",
       "    </tr>\n",
       "    <tr>\n",
       "      <th>1</th>\n",
       "      <td>2</td>\n",
       "      <td>s</td>\n",
       "      <td>35</td>\n",
       "      <td>66</td>\n",
       "      <td>79</td>\n",
       "      <td>180</td>\n",
       "      <td>60.000000</td>\n",
       "    </tr>\n",
       "    <tr>\n",
       "      <th>2</th>\n",
       "      <td>3</td>\n",
       "      <td>d</td>\n",
       "      <td>36</td>\n",
       "      <td>76</td>\n",
       "      <td>81</td>\n",
       "      <td>193</td>\n",
       "      <td>64.333333</td>\n",
       "    </tr>\n",
       "    <tr>\n",
       "      <th>3</th>\n",
       "      <td>4</td>\n",
       "      <td>f</td>\n",
       "      <td>37</td>\n",
       "      <td>86</td>\n",
       "      <td>83</td>\n",
       "      <td>206</td>\n",
       "      <td>68.666667</td>\n",
       "    </tr>\n",
       "    <tr>\n",
       "      <th>4</th>\n",
       "      <td>5</td>\n",
       "      <td>gh</td>\n",
       "      <td>38</td>\n",
       "      <td>96</td>\n",
       "      <td>85</td>\n",
       "      <td>219</td>\n",
       "      <td>73.000000</td>\n",
       "    </tr>\n",
       "    <tr>\n",
       "      <th>5</th>\n",
       "      <td>6</td>\n",
       "      <td>j</td>\n",
       "      <td>39</td>\n",
       "      <td>106</td>\n",
       "      <td>87</td>\n",
       "      <td>232</td>\n",
       "      <td>77.333333</td>\n",
       "    </tr>\n",
       "    <tr>\n",
       "      <th>6</th>\n",
       "      <td>7</td>\n",
       "      <td>kk</td>\n",
       "      <td>40</td>\n",
       "      <td>116</td>\n",
       "      <td>89</td>\n",
       "      <td>245</td>\n",
       "      <td>81.666667</td>\n",
       "    </tr>\n",
       "  </tbody>\n",
       "</table>\n",
       "</div>"
      ],
      "text/plain": [
       "   S.No. Name  Eng  Maths  Sci  Total  Percentage\n",
       "0      1    a   34     56   77    167   55.666667\n",
       "1      2    s   35     66   79    180   60.000000\n",
       "2      3    d   36     76   81    193   64.333333\n",
       "3      4    f   37     86   83    206   68.666667\n",
       "4      5   gh   38     96   85    219   73.000000\n",
       "5      6    j   39    106   87    232   77.333333\n",
       "6      7   kk   40    116   89    245   81.666667"
      ]
     },
     "execution_count": 13,
     "metadata": {},
     "output_type": "execute_result"
    }
   ],
   "source": [
    "df.to_excel(\"C:\\\\Users\\\\Namitha Suresh\\\\Downloads\\\\new.xlsx\")\n",
    "df"
   ]
  },
  {
   "cell_type": "code",
   "execution_count": 11,
   "metadata": {},
   "outputs": [],
   "source": [
    "df.to_excel(\"C:\\\\Users\\\\Namitha Suresh\\\\Downloads\\\\new.xlsx\",index=False)"
   ]
  },
  {
   "cell_type": "code",
   "execution_count": null,
   "metadata": {},
   "outputs": [],
   "source": []
  },
  {
   "cell_type": "code",
   "execution_count": 15,
   "metadata": {},
   "outputs": [],
   "source": [
    "df.to_csv(\"C:\\\\Users\\\\Namitha Suresh\\\\Downloads\\\\CSV1.csv\",index=False)"
   ]
  },
  {
   "cell_type": "code",
   "execution_count": 17,
   "metadata": {},
   "outputs": [],
   "source": [
    "df.to_csv(\"C:\\\\Users\\\\Namitha Suresh\\\\Downloads\\\\TEXT.txt\",index=False,sep=\"\\t\")"
   ]
  },
  {
   "cell_type": "code",
   "execution_count": null,
   "metadata": {},
   "outputs": [],
   "source": []
  },
  {
   "cell_type": "code",
   "execution_count": null,
   "metadata": {},
   "outputs": [],
   "source": []
  }
 ],
 "metadata": {
  "kernelspec": {
   "display_name": "Python 3",
   "language": "python",
   "name": "python3"
  },
  "language_info": {
   "codemirror_mode": {
    "name": "ipython",
    "version": 3
   },
   "file_extension": ".py",
   "mimetype": "text/x-python",
   "name": "python",
   "nbconvert_exporter": "python",
   "pygments_lexer": "ipython3",
   "version": "3.8.3"
  }
 },
 "nbformat": 4,
 "nbformat_minor": 4
}
