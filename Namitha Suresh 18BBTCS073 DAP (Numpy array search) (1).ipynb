{
 "cells": [
  {
   "cell_type": "code",
   "execution_count": 1,
   "metadata": {},
   "outputs": [
    {
     "name": "stdout",
     "output_type": "stream",
     "text": [
      "(array([3, 5, 6], dtype=int64),)\n"
     ]
    }
   ],
   "source": [
    "import numpy as np\n",
    "arr=np.array([1,2,3,4,5,4,4])\n",
    "x=np.where(arr==4)\n",
    "print(x)"
   ]
  },
  {
   "cell_type": "code",
   "execution_count": 2,
   "metadata": {},
   "outputs": [
    {
     "name": "stdout",
     "output_type": "stream",
     "text": [
      "(array([1, 3, 5, 7], dtype=int64),)\n"
     ]
    }
   ],
   "source": [
    "import numpy as np\n",
    "arr=np.array([1,2,3,4,5,6,7,8])\n",
    "x=np.where(arr%2==0)\n",
    "print(x)"
   ]
  },
  {
   "cell_type": "code",
   "execution_count": 4,
   "metadata": {},
   "outputs": [
    {
     "name": "stdout",
     "output_type": "stream",
     "text": [
      "(array([0, 2, 4, 6], dtype=int64),)\n"
     ]
    }
   ],
   "source": [
    "import numpy as np\n",
    "arr=np.array([1,2,3,4,5,6,7,8])\n",
    "x=np.where(arr%2==1)\n",
    "print(x)"
   ]
  },
  {
   "cell_type": "code",
   "execution_count": 5,
   "metadata": {},
   "outputs": [
    {
     "name": "stdout",
     "output_type": "stream",
     "text": [
      "2\n"
     ]
    }
   ],
   "source": [
    "#The number 7 should be inserted on index 1 to remain the sort order.\n",
    "#The method starts the search from the left and returns the first index where the number 7 is no longer larger \n",
    "#than the next value\n",
    "import numpy as np\n",
    "arr=np.array([6,7,18,19])\n",
    "x=np.searchsorted(arr,11)\n",
    "print(x)"
   ]
  },
  {
   "cell_type": "code",
   "execution_count": 6,
   "metadata": {},
   "outputs": [
    {
     "name": "stdout",
     "output_type": "stream",
     "text": [
      "3\n"
     ]
    }
   ],
   "source": [
    "import numpy as np\n",
    "arr=np.array([6,7,18,29])\n",
    "x=np.searchsorted(arr,19,side='right')\n",
    "print(x)"
   ]
  },
  {
   "cell_type": "code",
   "execution_count": 7,
   "metadata": {},
   "outputs": [
    {
     "name": "stdout",
     "output_type": "stream",
     "text": [
      "[1 2 3]\n"
     ]
    }
   ],
   "source": [
    "import numpy as np\n",
    "arr=np.array([1,3,5,7])\n",
    "x=np.searchsorted(arr,[2,4,6])\n",
    "print(x)"
   ]
  },
  {
   "cell_type": "code",
   "execution_count": null,
   "metadata": {},
   "outputs": [],
   "source": []
  }
 ],
 "metadata": {
  "kernelspec": {
   "display_name": "Python 3",
   "language": "python",
   "name": "python3"
  },
  "language_info": {
   "codemirror_mode": {
    "name": "ipython",
    "version": 3
   },
   "file_extension": ".py",
   "mimetype": "text/x-python",
   "name": "python",
   "nbconvert_exporter": "python",
   "pygments_lexer": "ipython3",
   "version": "3.8.3"
  }
 },
 "nbformat": 4,
 "nbformat_minor": 4
}
