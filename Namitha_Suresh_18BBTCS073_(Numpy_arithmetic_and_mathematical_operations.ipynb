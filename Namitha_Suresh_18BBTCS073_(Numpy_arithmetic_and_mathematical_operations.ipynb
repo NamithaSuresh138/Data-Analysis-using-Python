{
  "nbformat": 4,
  "nbformat_minor": 0,
  "metadata": {
    "colab": {
      "name": "Namitha Suresh 18BBTCS073 (Numpy arithmetic and mathematical operations.ipynb",
      "provenance": [],
      "collapsed_sections": []
    },
    "kernelspec": {
      "name": "python3",
      "display_name": "Python 3"
    },
    "language_info": {
      "name": "python"
    }
  },
  "cells": [
    {
      "cell_type": "markdown",
      "metadata": {
        "id": "Bcvh42KJzUnR"
      },
      "source": [
        "Numpy arithmetic and mathematical operations"
      ]
    },
    {
      "cell_type": "code",
      "metadata": {
        "colab": {
          "base_uri": "https://localhost:8080/"
        },
        "id": "2Eu8Xqm2seKi",
        "outputId": "500753f0-619b-42fb-dea4-346d363a49bf"
      },
      "source": [
        "import numpy as np\n",
        "a=np.array(9)\n",
        "print(\"Print A=\",a)\n",
        "b=np.array([10,20,30])\n",
        "print(\"Print B= \",b)\n",
        "addition=np.add(a,b)\n",
        "print(\"After addition = \",addition)\n",
        "sub=np.subtract(b,a)\n",
        "print(\"After subtraction = \",sub)\n",
        "mul=np.multiply(a,b)\n",
        "print(\"After multiplication = \",mul)\n",
        "div=np.divide(b,a)\n",
        "print(\"After division = \",div)\n",
        "div1=np.divide(b,5)\n",
        "print(\"After division = \",div1)"
      ],
      "execution_count": null,
      "outputs": [
        {
          "output_type": "stream",
          "name": "stdout",
          "text": [
            "Print A= 9\n",
            "Print B=  [10 20 30]\n",
            "After addition =  [19 29 39]\n",
            "After subtraction =  [ 1 11 21]\n",
            "After multiplication =  [ 90 180 270]\n",
            "After division =  [1.11111111 2.22222222 3.33333333]\n",
            "After division =  [2. 4. 6.]\n"
          ]
        }
      ]
    },
    {
      "cell_type": "code",
      "metadata": {
        "colab": {
          "base_uri": "https://localhost:8080/"
        },
        "id": "_Q1ynRCotr4u",
        "outputId": "8a51c673-c8b8-4af7-810b-cc8f59c58964"
      },
      "source": [
        "#reciprocal\n",
        "a=np.array([0.25,1.33,1,111])\n",
        "print(a)\n",
        "rec=np.reciprocal(a)\n",
        "print(rec)"
      ],
      "execution_count": null,
      "outputs": [
        {
          "output_type": "stream",
          "name": "stdout",
          "text": [
            "[  0.25   1.33   1.   111.  ]\n",
            "[4.         0.7518797  1.         0.00900901]\n"
          ]
        }
      ]
    },
    {
      "cell_type": "code",
      "metadata": {
        "colab": {
          "base_uri": "https://localhost:8080/"
        },
        "id": "xY7jrFXIt6Iq",
        "outputId": "0bbfb10b-d47a-4946-b7e4-3b73f8243647"
      },
      "source": [
        "a=np.array([10,100,1000])\n",
        "print(a)\n",
        "pow=np.power(a,2)\n",
        "print(\"after ^2=\",pow)\n",
        "\n",
        "b=np.array([2,3,1])\n",
        "\n",
        "pow1=np.power(a,b)\n",
        "print(\"after b array elements as ^ = \",pow1)"
      ],
      "execution_count": null,
      "outputs": [
        {
          "output_type": "stream",
          "name": "stdout",
          "text": [
            "[  10  100 1000]\n",
            "after ^2= [    100   10000 1000000]\n",
            "after b array elements as ^ =  [    100 1000000    1000]\n"
          ]
        }
      ]
    },
    {
      "cell_type": "code",
      "metadata": {
        "colab": {
          "base_uri": "https://localhost:8080/"
        },
        "id": "mIcUnvujutQ_",
        "outputId": "04ffca74-b2e9-4cae-86d2-dc9d4997480a"
      },
      "source": [
        "a=np.array([10,20,30])\n",
        "b=np.array([3,5,7])\n",
        "\n",
        "print(\"values of A=\",a)\n",
        "print(\"values of B=\",b)\n",
        "\n",
        "mm=np.mod(a,b)\n",
        "rm=np.remainder(a,b)\n",
        "\n",
        "print(\"values of MOD=\",mm)\n",
        "print(\"values of REMAINDER=\",rm)"
      ],
      "execution_count": null,
      "outputs": [
        {
          "output_type": "stream",
          "name": "stdout",
          "text": [
            "values of A= [10 20 30]\n",
            "values of B= [3 5 7]\n",
            "values of MOD= [1 0 2]\n",
            "values of REMAINDER= [1 0 2]\n"
          ]
        }
      ]
    },
    {
      "cell_type": "code",
      "metadata": {
        "colab": {
          "base_uri": "https://localhost:8080/"
        },
        "id": "O9KjaEmxvNUh",
        "outputId": "b23ff994-88dd-4cb9-af78-66c851019b29"
      },
      "source": [
        "a=np.array([-5.6j,0.2j,11,1+1j])\n",
        "print(a)\n",
        "print(\"real=\",np.real(a))\n",
        "\n",
        "print(\"imaginary=\",np.imag(a))\n",
        "\n",
        "print(\"Conjugate=\",np.conj(a))"
      ],
      "execution_count": null,
      "outputs": [
        {
          "output_type": "stream",
          "name": "stdout",
          "text": [
            "[-0.-5.6j  0.+0.2j 11.+0.j   1.+1.j ]\n",
            "real= [-0.  0. 11.  1.]\n",
            "imaginary= [-5.6  0.2  0.   1. ]\n",
            "Conjugate= [-0.+5.6j  0.-0.2j 11.-0.j   1.-1.j ]\n"
          ]
        }
      ]
    },
    {
      "cell_type": "code",
      "metadata": {
        "colab": {
          "base_uri": "https://localhost:8080/"
        },
        "id": "du3c0V8KvMaA",
        "outputId": "230797bd-de6c-473e-d830-5e27eb29fa84"
      },
      "source": [
        "a=np.array([1.0,5.3,123,0.56,25.5,32])\n",
        "print(a)\n",
        "print(\"after rounding up=\",np.around(a))\n",
        "print(\"after rounding up to 1st decimal value = \",np.around(a,decimals=1))"
      ],
      "execution_count": null,
      "outputs": [
        {
          "output_type": "stream",
          "name": "stdout",
          "text": [
            "[  1.     5.3  123.     0.56  25.5   32.  ]\n",
            "after rounding up= [  1.   5. 123.   1.  26.  32.]\n",
            "after rounding up to 1st decimal value =  [  1.    5.3 123.    0.6  25.5  32. ]\n"
          ]
        }
      ]
    },
    {
      "cell_type": "code",
      "metadata": {
        "colab": {
          "base_uri": "https://localhost:8080/"
        },
        "id": "Fqcd-QuLwe3B",
        "outputId": "ed846bf7-89e9-493d-c90a-5bfe745f9470"
      },
      "source": [
        "a=np.array([1.0,-5.3,123,-0.56,25.5,32])\n",
        "print(a)\n",
        "print('\\n')\n",
        "print(np.floor(a))\n",
        "print(np.ceil(a))"
      ],
      "execution_count": null,
      "outputs": [
        {
          "output_type": "stream",
          "name": "stdout",
          "text": [
            "[  1.    -5.3  123.    -0.56  25.5   32.  ]\n",
            "\n",
            "\n",
            "[  1.  -6. 123.  -1.  25.  32.]\n",
            "[  1.  -5. 123.  -0.  26.  32.]\n"
          ]
        }
      ]
    }
  ]
}