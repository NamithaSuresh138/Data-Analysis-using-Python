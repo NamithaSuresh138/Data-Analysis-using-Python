{
 "cells": [
  {
   "cell_type": "code",
   "execution_count": 2,
   "metadata": {},
   "outputs": [
    {
     "name": "stdout",
     "output_type": "stream",
     "text": [
      "Hello World!   Python programming\n"
     ]
    }
   ],
   "source": [
    "var1 = \"Hello World!\"\n",
    "var2 = \"Python programming\"\n",
    "print(var1,\" \",var2)"
   ]
  },
  {
   "cell_type": "code",
   "execution_count": 3,
   "metadata": {},
   "outputs": [
    {
     "name": "stdout",
     "output_type": "stream",
     "text": [
      "H\n",
      "ytho\n"
     ]
    }
   ],
   "source": [
    "var1 = \"Hello World!\"\n",
    "var2 = \"Python programming\"\n",
    "print(var1[0])\n",
    "print(var2[1:5])"
   ]
  },
  {
   "cell_type": "code",
   "execution_count": 4,
   "metadata": {},
   "outputs": [
    {
     "name": "stdout",
     "output_type": "stream",
     "text": [
      "Updated string:-  Hello Shabnam\n"
     ]
    }
   ],
   "source": [
    "var1 = 'Hello World!'\n",
    "print(\"Updated string:- \",var1[0:6]+'Shabnam')"
   ]
  },
  {
   "cell_type": "code",
   "execution_count": 3,
   "metadata": {},
   "outputs": [
    {
     "name": "stdout",
     "output_type": "stream",
     "text": [
      "Please enter your own string:hello class\n",
      "The Final String : Str2 =  hello class\n",
      "The Final String : Str3 = =  hello class\n",
      "The Final String : Str4 = = llo \n"
     ]
    }
   ],
   "source": [
    "str1=input(\"Please enter your own string:\")\n",
    "str2=str1\n",
    "str3=str1[:]\n",
    "str4=str1[2:6]\n",
    "\n",
    "print(\"The Final String : Str2 = \",str2)\n",
    "print(\"The Final String : Str3 = = \",str3)\n",
    "print(\"The Final String : Str4 = =\",str4)"
   ]
  },
  {
   "cell_type": "code",
   "execution_count": 4,
   "metadata": {},
   "outputs": [
    {
     "name": "stdout",
     "output_type": "stream",
     "text": [
      "str.capitalize() :  This is string example...wow!!!\n"
     ]
    }
   ],
   "source": [
    "#Python String capitalize() method returns a copy of the string with only its first character capitalized.\n",
    "str=\"this is string example...wow!!!\";\n",
    "print(\"str.capitalize() : \",str.capitalize())"
   ]
  },
  {
   "cell_type": "code",
   "execution_count": 5,
   "metadata": {},
   "outputs": [
    {
     "name": "stdout",
     "output_type": "stream",
     "text": [
      "str.length(40,'a') :  ****this is string example....wow!!!****\n"
     ]
    }
   ],
   "source": [
    "#center() returns centered in a string of length width. Padding is done using the specified fillchar. Default filler is a space.\n",
    "str=\"this is string example....wow!!!\"\n",
    "print(\"str.length(40,'a') : \",str.center(40, '*'))"
   ]
  },
  {
   "cell_type": "code",
   "execution_count": 8,
   "metadata": {},
   "outputs": [
    {
     "name": "stdout",
     "output_type": "stream",
     "text": [
      "str.count(sub,4,40) :  2\n",
      "str.count(sub) :  1\n"
     ]
    }
   ],
   "source": [
    "#count() returns the number of occurences of substring sub in the range [start,end].\n",
    "#str.count(sub, start=0,end=len(string))\n",
    "str=\"this is string example....wow!!!\"\n",
    "\n",
    "sub=\"i\";\n",
    "print(\"str.count(sub,4,40) : \",str.count(sub,4,40))\n",
    "sub = \"wow\"\n",
    "print(\"str.count(sub) : \",str.count(sub))"
   ]
  },
  {
   "cell_type": "code",
   "execution_count": 9,
   "metadata": {},
   "outputs": [
    {
     "name": "stdout",
     "output_type": "stream",
     "text": [
      "2\n",
      "-1\n",
      "-1\n"
     ]
    }
   ],
   "source": [
    "#find() determines if string str occurs in string, or in a substring of string if starting index beg and ending index end are given\n",
    "\n",
    "#str.find(str, beg=0, end=len(string))\n",
    "str1=\"this is string example....wow!!!\"\n",
    "str2=\"is\";\n",
    "\n",
    "print(str1.find(str2))\n",
    "print(str1.find(str2, 10))\n",
    "print(str1.find(str2, 40))"
   ]
  },
  {
   "cell_type": "code",
   "execution_count": 10,
   "metadata": {},
   "outputs": [
    {
     "name": "stdout",
     "output_type": "stream",
     "text": [
      "15\n",
      "15\n"
     ]
    }
   ],
   "source": [
    "#index() determines if string str occurs in string or in a substring of string if starting index beg and ending index are given.\n",
    "str1 = \"this is string example....wow!!!\";\n",
    "str2 = \"exam\";\n",
    "print(str1.index(str2))\n",
    "print(str1.index(str2,10,32))\n"
   ]
  },
  {
   "cell_type": "code",
   "execution_count": 11,
   "metadata": {},
   "outputs": [
    {
     "name": "stdout",
     "output_type": "stream",
     "text": [
      "True\n",
      "False\n"
     ]
    }
   ],
   "source": [
    "#isalnum() checks whether the string consists of alphanumeric characters.\n",
    "str = \"this2000\"\n",
    "print(str.isalnum())\n",
    "\n",
    "str=\"This is a string example\";\n",
    "print(str.isalnum())"
   ]
  },
  {
   "cell_type": "code",
   "execution_count": 13,
   "metadata": {},
   "outputs": [
    {
     "name": "stdout",
     "output_type": "stream",
     "text": [
      "True\n",
      "False\n"
     ]
    }
   ],
   "source": [
    "str=\"NamithaSuresh\"; #No space and digit\n",
    "print(str.isalpha())\n",
    "\n",
    "str=\"This is a string example\";\n",
    "print(str.isalpha())"
   ]
  },
  {
   "cell_type": "code",
   "execution_count": 14,
   "metadata": {},
   "outputs": [
    {
     "name": "stdout",
     "output_type": "stream",
     "text": [
      "True\n",
      "False\n"
     ]
    }
   ],
   "source": [
    "str=\"987654\"; # only digit in this string\n",
    "print(str.isdigit())\n",
    "\n",
    "str=\"This is a string example\";\n",
    "print(str.isdigit())"
   ]
  },
  {
   "cell_type": "code",
   "execution_count": 15,
   "metadata": {},
   "outputs": [
    {
     "name": "stdout",
     "output_type": "stream",
     "text": [
      "False\n",
      "True\n"
     ]
    }
   ],
   "source": [
    "str=\"DATA ANALYSIS USING PYTHON\";\n",
    "print(str.islower())\n",
    "str=\"data analysis using python\";\n",
    "print(str.islower())"
   ]
  },
  {
   "cell_type": "code",
   "execution_count": 16,
   "metadata": {},
   "outputs": [
    {
     "name": "stdout",
     "output_type": "stream",
     "text": [
      "False\n",
      "True\n"
     ]
    }
   ],
   "source": [
    "str=\"Thisyearis2021\";\n",
    "print(str.isnumeric())\n",
    "\n",
    "str=\"1234567890\"\n",
    "print(str.isnumeric())"
   ]
  },
  {
   "cell_type": "code",
   "execution_count": 18,
   "metadata": {},
   "outputs": [
    {
     "name": "stdout",
     "output_type": "stream",
     "text": [
      "True\n",
      "False\n"
     ]
    }
   ],
   "source": [
    "str=\" \";\n",
    "print(str.isspace())\n",
    "str=\"This is a string example\";\n",
    "print(str.isspace())\n"
   ]
  },
  {
   "cell_type": "code",
   "execution_count": 19,
   "metadata": {},
   "outputs": [
    {
     "name": "stdout",
     "output_type": "stream",
     "text": [
      "True\n",
      "False\n"
     ]
    }
   ],
   "source": [
    "str=\"Data Analysis Using Python\";\n",
    "print(str.istitle())\n",
    "str=\"data analysis using python\";\n",
    "print(str.istitle())"
   ]
  },
  {
   "cell_type": "code",
   "execution_count": 20,
   "metadata": {},
   "outputs": [
    {
     "name": "stdout",
     "output_type": "stream",
     "text": [
      "True\n",
      "False\n"
     ]
    }
   ],
   "source": [
    "str=\"DATA ANALYSIS USING PYTHON\";\n",
    "print(str.isupper())\n",
    "str=\"Data analysis using python\";\n",
    "print(str.isupper())"
   ]
  },
  {
   "cell_type": "code",
   "execution_count": 21,
   "metadata": {},
   "outputs": [
    {
     "name": "stdout",
     "output_type": "stream",
     "text": [
      "abc * * bttt * * cqweqe\n"
     ]
    }
   ],
   "source": [
    "#join() returns a string in which the string element of sequence have been joined by str seperator.\n",
    "s = \" * * \";\n",
    "seq = (\"abc\",\"bttt\",\"cqweqe\");\n",
    "print(s.join(seq))"
   ]
  },
  {
   "cell_type": "code",
   "execution_count": 24,
   "metadata": {},
   "outputs": [
    {
     "name": "stdout",
     "output_type": "stream",
     "text": [
      "Length of the string is: 24\n"
     ]
    }
   ],
   "source": [
    "str = \"This is a string example\";\n",
    "print(\"Length of the string is:\", len(str))"
   ]
  },
  {
   "cell_type": "code",
   "execution_count": 26,
   "metadata": {},
   "outputs": [
    {
     "name": "stdout",
     "output_type": "stream",
     "text": [
      "This is a string example      \n",
      "This is a string example88888\n",
      "66666This is a string example\n"
     ]
    }
   ],
   "source": [
    "#lstrip() return copy of the string in which all chars have been stripped from the beginning of the string (default whitespace characters)\n",
    "\n",
    "str = \"     This is a string example      \";\n",
    "print(str.lstrip())\n",
    "str = \"66666This is a string example88888\";\n",
    "print(str.lstrip('6'))\n",
    "print(str.rstrip('8'))"
   ]
  },
  {
   "cell_type": "code",
   "execution_count": 27,
   "metadata": {},
   "outputs": [
    {
     "name": "stdout",
     "output_type": "stream",
     "text": [
      "data analysis using python\n"
     ]
    }
   ],
   "source": [
    "str=\"DATA ANALYSIS USING PYTHON\";\n",
    "print(str.lower())"
   ]
  },
  {
   "cell_type": "code",
   "execution_count": 28,
   "metadata": {},
   "outputs": [
    {
     "name": "stdout",
     "output_type": "stream",
     "text": [
      "Max character: u\n",
      "Max character: y\n"
     ]
    }
   ],
   "source": [
    "#returns largest character\n",
    "str=\"Namitha_Suresh\";\n",
    "print(\"Max character: \"+max(str))\n",
    "\n",
    "str=\"CMR_University\";\n",
    "print(\"Max character: \"+max(str))"
   ]
  },
  {
   "cell_type": "code",
   "execution_count": 31,
   "metadata": {},
   "outputs": [
    {
     "name": "stdout",
     "output_type": "stream",
     "text": [
      "Min character: N\n",
      "Min character: -\n"
     ]
    }
   ],
   "source": [
    "str=\"Namitha_Suresh\";\n",
    "print(\"Min character: \"+min(str))\n",
    "\n",
    "str=\"CMR-University\";\n",
    "print(\"Min character: \"+min(str))"
   ]
  },
  {
   "cell_type": "code",
   "execution_count": 34,
   "metadata": {},
   "outputs": [
    {
     "name": "stdout",
     "output_type": "stream",
     "text": [
      "Namitha Suresh was a student at Kendriya Vidyalaya Malleswaram and was a student at CMR University\n",
      "Namitha Suresh was a student at Kendriya Vidyalaya Malleswaram and is a student at CMR University\n"
     ]
    }
   ],
   "source": [
    "#str.replace(old, new[,max])\n",
    "\n",
    "str=\"Namitha Suresh is a student at Kendriya Vidyalaya Malleswaram and is a student at CMR University\";\n",
    "print(str.replace(\"is\",\"was\"))\n",
    "print(str.replace(\"is\",\"was\",1))"
   ]
  },
  {
   "cell_type": "code",
   "execution_count": 35,
   "metadata": {},
   "outputs": [
    {
     "name": "stdout",
     "output_type": "stream",
     "text": [
      "True\n",
      "True\n",
      "False\n"
     ]
    }
   ],
   "source": [
    "str=\"this is string example...wow!!!\";\n",
    "print(str.startswith('this'))\n",
    "print(str.startswith('is',2,4))\n",
    "print(str.startswith('this',2,4))"
   ]
  },
  {
   "cell_type": "code",
   "execution_count": 36,
   "metadata": {},
   "outputs": [
    {
     "name": "stdout",
     "output_type": "stream",
     "text": [
      "str.capitalize() :  NAMITHA SURESH\n"
     ]
    }
   ],
   "source": [
    "str=\"Namitha Suresh\";\n",
    "print(\"str.capitalize() : \",str.upper())"
   ]
  },
  {
   "cell_type": "code",
   "execution_count": 38,
   "metadata": {},
   "outputs": [
    {
     "name": "stdout",
     "output_type": "stream",
     "text": [
      "namitha suresh\n",
      "NAMITHA SURESH\n"
     ]
    }
   ],
   "source": [
    "str=\"NAMITHA SURESH\";\n",
    "print(str.swapcase())\n",
    "str=\"namitha suresh\";\n",
    "print(str.swapcase())"
   ]
  },
  {
   "cell_type": "code",
   "execution_count": null,
   "metadata": {},
   "outputs": [],
   "source": []
  }
 ],
 "metadata": {
  "kernelspec": {
   "display_name": "Python 3",
   "language": "python",
   "name": "python3"
  },
  "language_info": {
   "codemirror_mode": {
    "name": "ipython",
    "version": 3
   },
   "file_extension": ".py",
   "mimetype": "text/x-python",
   "name": "python",
   "nbconvert_exporter": "python",
   "pygments_lexer": "ipython3",
   "version": "3.8.3"
  }
 },
 "nbformat": 4,
 "nbformat_minor": 4
}
