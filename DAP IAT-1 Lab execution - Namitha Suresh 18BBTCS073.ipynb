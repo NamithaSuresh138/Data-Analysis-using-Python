{
  "nbformat": 4,
  "nbformat_minor": 0,
  "metadata": {
    "colab": {
      "name": "DAP_IAT_1_Lab_execution_Namitha_Suresh_18BBTCS073.ipynb",
      "provenance": [],
      "collapsed_sections": []
    },
    "kernelspec": {
      "name": "python3",
      "display_name": "Python 3"
    },
    "language_info": {
      "name": "python"
    }
  },
  "cells": [
    {
      "cell_type": "code",
      "metadata": {
        "colab": {
          "base_uri": "https://localhost:8080/"
        },
        "id": "RtMzCoNcwMuI",
        "outputId": "9cade7fb-4e97-466c-8cb0-ea39cf12e09b"
      },
      "source": [
        "\n",
        "print(\"                                         SRS               \")\n",
        "print(\"                        Software Requirements Specification\")\n",
        "\n",
        "intro();\n",
        "odes();\n",
        "systemfr();\n",
        "\n",
        "def intro():\n",
        "  print(\" I. Introduction:- \")\n",
        "  a=input(\"   (i) Purpose: \")\n",
        "  b=input(\"   (ii) Intended audience: \")\n",
        "  c=input(\"   (iii) Scope of the software: \")\n",
        "  d=input(\"   (iv) Definitions and acronynms: \")\n",
        "  print(\"\\n\")\n",
        "def odes():\n",
        "  print(\" II. Overall description:- \")\n",
        "  e=input(\"   (i) User needs: \")\n",
        "  f=input(\"   (ii) Assumptions and dependencies: \")\n",
        "  print(\"\\n\")\n",
        "def systemfr():\n",
        "  print(\" III. System features and requirements:- \")\n",
        "  g=input(\"   (i) Functional requirements: \")\n",
        "  h=input(\"   (ii) External interface requirements: \")\n",
        "  i=input(\"   (iii) System features: \")\n",
        "  j=input(\"   (iv)  Nonfunctional requirements: \")\n",
        "  print(\"\\n\")\n",
        "\n",
        "print(\"                       -------------------X--------------------\")"
      ],
      "execution_count": null,
      "outputs": [
        {
          "output_type": "stream",
          "name": "stdout",
          "text": [
            "                                         SRS               \n",
            "                        Software Requirements Specification\n",
            " I. Introduction:- \n",
            "   (i) Purpose: a\n",
            "   (ii) Intended audience: b\n",
            "   (iii) Scope of the software: c\n",
            "   (iv) Definitions and acronynms: d\n",
            "\n",
            "\n",
            " II. Overall description:- \n",
            "   (i) User needs: e\n",
            "   (ii) Assumptions and dependencies: g\n",
            "\n",
            "\n",
            " III. System features and requirements:- \n",
            "   (i) Functional requirements: h\n",
            "   (ii) External interface requirements: i\n",
            "   (iii) System features: j\n",
            "   (iv)  Nonfunctional requirements: k\n",
            "\n",
            "\n",
            "                       -------------------X--------------------\n"
          ]
        }
      ]
    }
  ]
}