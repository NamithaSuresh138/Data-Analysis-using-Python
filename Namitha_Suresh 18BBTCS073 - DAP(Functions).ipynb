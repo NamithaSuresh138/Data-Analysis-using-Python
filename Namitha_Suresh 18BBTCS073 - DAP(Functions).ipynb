{
  "nbformat": 4,
  "nbformat_minor": 0,
  "metadata": {
    "colab": {
      "name": "Namitha Suresh 18BBTCS073 - DAP(Functions).ipynb",
      "provenance": [],
      "collapsed_sections": []
    },
    "kernelspec": {
      "name": "python3",
      "display_name": "Python 3"
    },
    "language_info": {
      "name": "python"
    }
  },
  "cells": [
    {
      "cell_type": "markdown",
      "metadata": {
        "id": "iVbPH_YKnj9Z"
      },
      "source": [
        "FUNCTIONS\n"
      ]
    },
    {
      "cell_type": "code",
      "metadata": {
        "colab": {
          "base_uri": "https://localhost:8080/"
        },
        "id": "fNd8z9d4fiHD",
        "outputId": "612e7b9d-f972-44a5-c01a-83f38c305db0"
      },
      "source": [
        "def hello (str):\n",
        "  print(\"in function \" + str)\n",
        "  print(\"after printing in function definition\")\n",
        "  return;\n",
        "\n",
        "print(\"1\")\n",
        "print(\"2\")\n",
        "hello(\"Namitha\")\n",
        "hello(\"Suresh\")\n",
        "print(\"3\")"
      ],
      "execution_count": null,
      "outputs": [
        {
          "output_type": "stream",
          "name": "stdout",
          "text": [
            "1\n",
            "2\n",
            "in function Namitha\n",
            "after printing in function definition\n",
            "in function Suresh\n",
            "after printing in function definition\n",
            "3\n"
          ]
        }
      ]
    },
    {
      "cell_type": "code",
      "metadata": {
        "colab": {
          "base_uri": "https://localhost:8080/"
        },
        "id": "6S3JDakEgEd9",
        "outputId": "689a6e8f-776e-410f-9781-52c958506ea2"
      },
      "source": [
        "def changeme(mylist):\n",
        "  mylist.append([1,2,3,4]);\n",
        "  print(\"Values inside the function: \",mylist)\n",
        "  return;\n",
        "mylist=[10,20,30];\n",
        "changeme(mylist);\n",
        "print(\"Values outside the function: \",mylist)"
      ],
      "execution_count": null,
      "outputs": [
        {
          "output_type": "stream",
          "name": "stdout",
          "text": [
            "Values inside the function:  [10, 20, 30, [1, 2, 3, 4]]\n",
            "Values outside the function:  [10, 20, 30, [1, 2, 3, 4]]\n"
          ]
        }
      ]
    },
    {
      "cell_type": "code",
      "metadata": {
        "colab": {
          "base_uri": "https://localhost:8080/"
        },
        "id": "G4weUEMwg1Aq",
        "outputId": "269e8683-0437-4993-9316-fe1284ac76dd"
      },
      "source": [
        "def changeme(mylist):\n",
        "  print(\"BEFORE CHANGES values inside the function: \",mylist)\n",
        "  mylist=[1,2,3,4];\n",
        "  print(\"AFTER CHANGES Values inside the function: \",mylist)\n",
        "  return\n",
        "mylist1=[10,20,30]\n",
        "changeme(mylist1);\n",
        "print(\"Values outside the function: \",mylist)"
      ],
      "execution_count": null,
      "outputs": [
        {
          "output_type": "stream",
          "name": "stdout",
          "text": [
            "BEFORE CHANGES values inside the function:  [10, 20, 30]\n",
            "AFTER CHANGES Values inside the function:  [1, 2, 3, 4]\n",
            "Values outside the function:  [10, 20, 30, [1, 2, 3, 4]]\n"
          ]
        }
      ]
    },
    {
      "cell_type": "code",
      "metadata": {
        "colab": {
          "base_uri": "https://localhost:8080/",
          "height": 201
        },
        "id": "pnjDdOdOhpU3",
        "outputId": "b24ddcec-6b1a-4ed6-dabc-66aedb10c1ec"
      },
      "source": [
        "def printme(str):\n",
        "  print(str)\n",
        "  return;\n",
        "\n",
        "printme()"
      ],
      "execution_count": null,
      "outputs": [
        {
          "output_type": "error",
          "ename": "TypeError",
          "evalue": "ignored",
          "traceback": [
            "\u001b[0;31m---------------------------------------------------------------------------\u001b[0m",
            "\u001b[0;31mTypeError\u001b[0m                                 Traceback (most recent call last)",
            "\u001b[0;32m<ipython-input-4-c48887891159>\u001b[0m in \u001b[0;36m<module>\u001b[0;34m()\u001b[0m\n\u001b[1;32m      3\u001b[0m   \u001b[0;32mreturn\u001b[0m\u001b[0;34m;\u001b[0m\u001b[0;34m\u001b[0m\u001b[0;34m\u001b[0m\u001b[0m\n\u001b[1;32m      4\u001b[0m \u001b[0;34m\u001b[0m\u001b[0m\n\u001b[0;32m----> 5\u001b[0;31m \u001b[0mprintme\u001b[0m\u001b[0;34m(\u001b[0m\u001b[0;34m)\u001b[0m\u001b[0;34m\u001b[0m\u001b[0;34m\u001b[0m\u001b[0m\n\u001b[0m",
            "\u001b[0;31mTypeError\u001b[0m: printme() missing 1 required positional argument: 'str'"
          ]
        }
      ]
    },
    {
      "cell_type": "code",
      "metadata": {
        "colab": {
          "base_uri": "https://localhost:8080/"
        },
        "id": "wNAbUPjkhymk",
        "outputId": "a16c058f-4f29-4f45-b5fc-8d989e3f86ea"
      },
      "source": [
        "def printme(str):\n",
        "  print(str)\n",
        "  return;\n",
        "printme(str=\"My string\")"
      ],
      "execution_count": null,
      "outputs": [
        {
          "output_type": "stream",
          "name": "stdout",
          "text": [
            "My string\n"
          ]
        }
      ]
    },
    {
      "cell_type": "code",
      "metadata": {
        "colab": {
          "base_uri": "https://localhost:8080/"
        },
        "id": "fvb_YNg1iCmF",
        "outputId": "38f60366-49b8-4d1d-ba08-2366db11f803"
      },
      "source": [
        "def printinfo(name, age):\n",
        "  print(\"Name: \",name)\n",
        "  print(\"Age: \",age)\n",
        "  return;\n",
        "printinfo(age=51, name=\"Suresh\")"
      ],
      "execution_count": null,
      "outputs": [
        {
          "output_type": "stream",
          "name": "stdout",
          "text": [
            "Name:  Suresh\n",
            "Age:  51\n"
          ]
        }
      ]
    },
    {
      "cell_type": "code",
      "metadata": {
        "colab": {
          "base_uri": "https://localhost:8080/"
        },
        "id": "08-QVZQIiYtv",
        "outputId": "830c30ce-a825-4328-f565-c85b79dd3b29"
      },
      "source": [
        "def printinfo(name, age):\n",
        "  print(\"Name: \",name)\n",
        "  print(\"Age: \",age)\n",
        "  return;\n",
        "printinfo(\"Maya\",46)"
      ],
      "execution_count": null,
      "outputs": [
        {
          "output_type": "stream",
          "name": "stdout",
          "text": [
            "Name:  Maya\n",
            "Age:  46\n"
          ]
        }
      ]
    },
    {
      "cell_type": "code",
      "metadata": {
        "colab": {
          "base_uri": "https://localhost:8080/"
        },
        "id": "-C0Q_Nizit88",
        "outputId": "3bb0d614-448d-4332-985f-4ccedebfa768"
      },
      "source": [
        "def printinfo(name, age):\n",
        "  print(\"Name: \",name)\n",
        "  print(\"Age: \",age)\n",
        "  return\n",
        "printinfo(21,\"Namitha\")"
      ],
      "execution_count": null,
      "outputs": [
        {
          "output_type": "stream",
          "name": "stdout",
          "text": [
            "Name:  21\n",
            "Age:  Namitha\n"
          ]
        }
      ]
    },
    {
      "cell_type": "code",
      "metadata": {
        "colab": {
          "base_uri": "https://localhost:8080/"
        },
        "id": "0uRHse9TjBvN",
        "outputId": "703375d8-cc7b-4d7d-b341-c95593137786"
      },
      "source": [
        "def printinfo(name,age=20):\n",
        "  print(\"Name: \",name)\n",
        "  print(\"Age: \",age)\n",
        "printinfo(age=21,name=\"Namitha\")\n",
        "printinfo(\"Namitha\")"
      ],
      "execution_count": null,
      "outputs": [
        {
          "output_type": "stream",
          "name": "stdout",
          "text": [
            "Name:  Namitha\n",
            "Age:  21\n",
            "Name:  Namitha\n",
            "Age:  20\n"
          ]
        }
      ]
    },
    {
      "cell_type": "code",
      "metadata": {
        "colab": {
          "base_uri": "https://localhost:8080/"
        },
        "id": "oRnIls1Ilrsx",
        "outputId": "61854602-fc82-4752-f878-7f690c48ff2b"
      },
      "source": [
        "def printinfo(arg1, *vartuple):\n",
        "  print(\"Output is: \")\n",
        "  print(\"arg1==\",arg1)\n",
        "  for var in vartuple:\n",
        "    print(var)\n",
        "  return;\n",
        "printinfo(10,78)\n",
        "printinfo(70,60,50,90)"
      ],
      "execution_count": null,
      "outputs": [
        {
          "output_type": "stream",
          "name": "stdout",
          "text": [
            "Output is: \n",
            "arg1== 10\n",
            "78\n",
            "Output is: \n",
            "arg1== 70\n",
            "60\n",
            "50\n",
            "90\n"
          ]
        }
      ]
    },
    {
      "cell_type": "code",
      "metadata": {
        "colab": {
          "base_uri": "https://localhost:8080/"
        },
        "id": "PqRVDCdumX2L",
        "outputId": "0a5d6fa5-afe8-4a6d-dc98-e5ba47ec9cc2"
      },
      "source": [
        "sum = lambda arg1, arg2: arg1 + arg2;\n",
        "\n",
        "print(\"Value of total : \",sum(10,20))\n",
        "print(\"Value of total : \",sum(20,20))"
      ],
      "execution_count": null,
      "outputs": [
        {
          "output_type": "stream",
          "name": "stdout",
          "text": [
            "Value of total :  30\n",
            "Value of total :  40\n"
          ]
        }
      ]
    },
    {
      "cell_type": "code",
      "metadata": {
        "colab": {
          "base_uri": "https://localhost:8080/"
        },
        "id": "_PJsLRdsmwgh",
        "outputId": "47b7b191-fe94-4b08-ad88-183b06a7067c"
      },
      "source": [
        "def sum(arg1, arg2):\n",
        "  total=arg1 + arg2\n",
        "  print(\"Inside the function : \",total)\n",
        "  return total;\n",
        "\n",
        "total1=sum(10,20);\n",
        "print(\"Outside the function : \",total1)"
      ],
      "execution_count": null,
      "outputs": [
        {
          "output_type": "stream",
          "name": "stdout",
          "text": [
            "Inside the function :  30\n",
            "Outside the function :  30\n"
          ]
        }
      ]
    },
    {
      "cell_type": "code",
      "metadata": {
        "colab": {
          "base_uri": "https://localhost:8080/"
        },
        "id": "Hu0bl5e9nHUE",
        "outputId": "45528e85-cbb9-4d61-dba4-cc1812753923"
      },
      "source": [
        "total=99;\n",
        "\n",
        "def sum(arg1, arg2):\n",
        "  total=arg1 + arg2;\n",
        "  print(\"Inside the function local total : \",total)\n",
        "  return total;\n",
        "\n",
        "sum(10,20);\n",
        "print(\"Outside the function global total : \",total)"
      ],
      "execution_count": null,
      "outputs": [
        {
          "output_type": "stream",
          "name": "stdout",
          "text": [
            "Inside the function local total :  30\n",
            "Outside the function global total :  99\n"
          ]
        }
      ]
    }
  ]
}